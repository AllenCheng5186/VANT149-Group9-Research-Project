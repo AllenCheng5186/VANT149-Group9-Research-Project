{
 "cells": [
  {
   "cell_type": "code",
   "execution_count": 1,
   "id": "a72ec46c-77af-4dcc-a364-757fc2294f1f",
   "metadata": {
    "slideshow": {
     "slide_type": "slide"
    }
   },
   "outputs": [
    {
     "name": "stderr",
     "output_type": "stream",
     "text": [
      "── \u001b[1mAttaching core tidyverse packages\u001b[22m ──────────────────────── tidyverse 2.0.0 ──\n",
      "\u001b[32m✔\u001b[39m \u001b[34mdplyr    \u001b[39m 1.1.2     \u001b[32m✔\u001b[39m \u001b[34mreadr    \u001b[39m 2.1.4\n",
      "\u001b[32m✔\u001b[39m \u001b[34mforcats  \u001b[39m 1.0.0     \u001b[32m✔\u001b[39m \u001b[34mstringr  \u001b[39m 1.5.0\n",
      "\u001b[32m✔\u001b[39m \u001b[34mggplot2  \u001b[39m 3.4.2     \u001b[32m✔\u001b[39m \u001b[34mtibble   \u001b[39m 3.2.1\n",
      "\u001b[32m✔\u001b[39m \u001b[34mlubridate\u001b[39m 1.9.2     \u001b[32m✔\u001b[39m \u001b[34mtidyr    \u001b[39m 1.3.0\n",
      "\u001b[32m✔\u001b[39m \u001b[34mpurrr    \u001b[39m 1.0.1     \n",
      "── \u001b[1mConflicts\u001b[22m ────────────────────────────────────────── tidyverse_conflicts() ──\n",
      "\u001b[31m✖\u001b[39m \u001b[34mdplyr\u001b[39m::\u001b[32mfilter()\u001b[39m masks \u001b[34mstats\u001b[39m::filter()\n",
      "\u001b[31m✖\u001b[39m \u001b[34mdplyr\u001b[39m::\u001b[32mlag()\u001b[39m    masks \u001b[34mstats\u001b[39m::lag()\n",
      "\u001b[36mℹ\u001b[39m Use the conflicted package (\u001b[3m\u001b[34m<http://conflicted.r-lib.org/>\u001b[39m\u001b[23m) to force all conflicts to become errors\n",
      "Linking to GEOS 3.11.0, GDAL 3.5.3, PROJ 9.1.0; sf_use_s2() is TRUE\n",
      "\n",
      "The legacy packages maptools, rgdal, and rgeos, underpinning this package\n",
      "will retire shortly. Please refer to R-spatial evolution reports on\n",
      "https://r-spatial.org/r/2023/05/15/evolution4.html for details.\n",
      "This package is now running under evolution status 0 \n",
      "\n",
      "\n",
      "Attaching package: ‘rvest’\n",
      "\n",
      "\n",
      "The following object is masked from ‘package:readr’:\n",
      "\n",
      "    guess_encoding\n",
      "\n",
      "\n",
      "\u001b[32mℹ\u001b[39m Google's Terms of Service: \u001b[34m\u001b[3m<https://mapsplatform.google.com>\u001b[23m\u001b[39m\n",
      "\u001b[32mℹ\u001b[39m Please cite \u001b[34mggmap\u001b[39m if you use it! Use `citation(\"ggmap\")` for details.\n",
      "\n",
      "Attaching package: ‘maps’\n",
      "\n",
      "\n",
      "The following object is masked from ‘package:purrr’:\n",
      "\n",
      "    map\n",
      "\n",
      "\n",
      "Loading required package: grid\n",
      "\n",
      "Warning message:\n",
      "“multiple methods tables found for ‘elide’”\n",
      "\n",
      "Attaching package: ‘latticeExtra’\n",
      "\n",
      "\n",
      "The following object is masked from ‘package:ggplot2’:\n",
      "\n",
      "    layer\n",
      "\n",
      "\n"
     ]
    }
   ],
   "source": [
    "library(tidyverse)\n",
    "library(sf)\n",
    "library(mapview)\n",
    "library(rvest)\n",
    "library(httr)\n",
    "library(ggplot2)\n",
    "library(ggmap)\n",
    "library(maps)\n",
    "library(ggsn)\n",
    "library(geosphere)\n",
    "library(dplyr)\n",
    "library(RColorBrewer)\n",
    "library(readxl)\n",
    "library(leaflet)\n",
    "library(leaflet.extras)\n",
    "library(plot3D)\n",
    "library(av)\n",
    "library(rayshader)\n",
    "library(lattice)\n",
    "library(latticeExtra)"
   ]
  },
  {
   "cell_type": "code",
   "execution_count": 2,
   "id": "a9bbc4e0-7a4d-4eea-98e5-1fcb9dad4243",
   "metadata": {
    "slideshow": {
     "slide_type": "slide"
    }
   },
   "outputs": [
    {
     "name": "stderr",
     "output_type": "stream",
     "text": [
      "\u001b[1mRows: \u001b[22m\u001b[34m89\u001b[39m \u001b[1mColumns: \u001b[22m\u001b[34m4\u001b[39m\n",
      "\u001b[36m──\u001b[39m \u001b[1mColumn specification\u001b[22m \u001b[36m────────────────────────────────────────────────────────\u001b[39m\n",
      "\u001b[1mDelimiter:\u001b[22m \",\"\n",
      "\u001b[31mchr\u001b[39m (2): Formal_Name_and_Room, Street_Address\n",
      "\u001b[32mdbl\u001b[39m (2): Latitude, Longitude\n",
      "\n",
      "\u001b[36mℹ\u001b[39m Use `spec()` to retrieve the full column specification for this data.\n",
      "\u001b[36mℹ\u001b[39m Specify the column types or set `show_col_types = FALSE` to quiet this message.\n"
     ]
    },
    {
     "data": {
      "text/html": [
       "<table class=\"dataframe\">\n",
       "<caption>A tibble: 6 × 4</caption>\n",
       "<thead>\n",
       "\t<tr><th scope=col>Formal_Name_and_Room</th><th scope=col>Street_Address</th><th scope=col>Latitude</th><th scope=col>Longitude</th></tr>\n",
       "\t<tr><th scope=col>&lt;chr&gt;</th><th scope=col>&lt;chr&gt;</th><th scope=col>&lt;dbl&gt;</th><th scope=col>&lt;dbl&gt;</th></tr>\n",
       "</thead>\n",
       "<tbody>\n",
       "\t<tr><td>Blue Phone 01 ANSOC @ Northwest Marine Drive             </td><td>6303 N W MARINE DR at ANSOC Building        </td><td>49.26973</td><td>-123.2572</td></tr>\n",
       "\t<tr><td>Blue Phone 03 Flagpole Plaza @ Main Mall &amp; Crescent Road </td><td><span style=white-space:pre-wrap>Main Mall &amp; Crescent Road                   </span></td><td>49.26894</td><td>-123.2566</td></tr>\n",
       "\t<tr><td><span style=white-space:pre-wrap>Blue Phone 04 Wyman Plaza @ Main Mall &amp; Memorial Road    </span></td><td><span style=white-space:pre-wrap>Main Mall &amp; Memorial Road                   </span></td><td>49.26777</td><td>-123.2550</td></tr>\n",
       "\t<tr><td>Blue Phone 05 Ponderosa F @ Lower Mall &amp; Pedestrian Path </td><td><span style=white-space:pre-wrap>2008 LOWER MALL Ponderosa Annex F           </span></td><td>49.26497</td><td>-123.2575</td></tr>\n",
       "\t<tr><td>Blue Phone 06 Ponderosa A @ West Mall &amp; Agricultural Road</td><td><span style=white-space:pre-wrap>2011 WEST MALL Ponderosa Annex A            </span></td><td>49.26534</td><td>-123.2562</td></tr>\n",
       "\t<tr><td><span style=white-space:pre-wrap>Blue Phone 07 Hennings @ East Mall &amp; Agricultural Road   </span></td><td>6224 AGRICULTURAL RD/EAST MALL Hennings Bldg</td><td>49.26697</td><td>-123.2518</td></tr>\n",
       "</tbody>\n",
       "</table>\n"
      ],
      "text/latex": [
       "A tibble: 6 × 4\n",
       "\\begin{tabular}{llll}\n",
       " Formal\\_Name\\_and\\_Room & Street\\_Address & Latitude & Longitude\\\\\n",
       " <chr> & <chr> & <dbl> & <dbl>\\\\\n",
       "\\hline\n",
       "\t Blue Phone 01 ANSOC @ Northwest Marine Drive              & 6303 N W MARINE DR at ANSOC Building         & 49.26973 & -123.2572\\\\\n",
       "\t Blue Phone 03 Flagpole Plaza @ Main Mall \\& Crescent Road  & Main Mall \\& Crescent Road                    & 49.26894 & -123.2566\\\\\n",
       "\t Blue Phone 04 Wyman Plaza @ Main Mall \\& Memorial Road     & Main Mall \\& Memorial Road                    & 49.26777 & -123.2550\\\\\n",
       "\t Blue Phone 05 Ponderosa F @ Lower Mall \\& Pedestrian Path  & 2008 LOWER MALL Ponderosa Annex F            & 49.26497 & -123.2575\\\\\n",
       "\t Blue Phone 06 Ponderosa A @ West Mall \\& Agricultural Road & 2011 WEST MALL Ponderosa Annex A             & 49.26534 & -123.2562\\\\\n",
       "\t Blue Phone 07 Hennings @ East Mall \\& Agricultural Road    & 6224 AGRICULTURAL RD/EAST MALL Hennings Bldg & 49.26697 & -123.2518\\\\\n",
       "\\end{tabular}\n"
      ],
      "text/markdown": [
       "\n",
       "A tibble: 6 × 4\n",
       "\n",
       "| Formal_Name_and_Room &lt;chr&gt; | Street_Address &lt;chr&gt; | Latitude &lt;dbl&gt; | Longitude &lt;dbl&gt; |\n",
       "|---|---|---|---|\n",
       "| Blue Phone 01 ANSOC @ Northwest Marine Drive              | 6303 N W MARINE DR at ANSOC Building         | 49.26973 | -123.2572 |\n",
       "| Blue Phone 03 Flagpole Plaza @ Main Mall &amp; Crescent Road  | Main Mall &amp; Crescent Road                    | 49.26894 | -123.2566 |\n",
       "| Blue Phone 04 Wyman Plaza @ Main Mall &amp; Memorial Road     | Main Mall &amp; Memorial Road                    | 49.26777 | -123.2550 |\n",
       "| Blue Phone 05 Ponderosa F @ Lower Mall &amp; Pedestrian Path  | 2008 LOWER MALL Ponderosa Annex F            | 49.26497 | -123.2575 |\n",
       "| Blue Phone 06 Ponderosa A @ West Mall &amp; Agricultural Road | 2011 WEST MALL Ponderosa Annex A             | 49.26534 | -123.2562 |\n",
       "| Blue Phone 07 Hennings @ East Mall &amp; Agricultural Road    | 6224 AGRICULTURAL RD/EAST MALL Hennings Bldg | 49.26697 | -123.2518 |\n",
       "\n"
      ],
      "text/plain": [
       "  Formal_Name_and_Room                                     \n",
       "1 Blue Phone 01 ANSOC @ Northwest Marine Drive             \n",
       "2 Blue Phone 03 Flagpole Plaza @ Main Mall & Crescent Road \n",
       "3 Blue Phone 04 Wyman Plaza @ Main Mall & Memorial Road    \n",
       "4 Blue Phone 05 Ponderosa F @ Lower Mall & Pedestrian Path \n",
       "5 Blue Phone 06 Ponderosa A @ West Mall & Agricultural Road\n",
       "6 Blue Phone 07 Hennings @ East Mall & Agricultural Road   \n",
       "  Street_Address                               Latitude Longitude\n",
       "1 6303 N W MARINE DR at ANSOC Building         49.26973 -123.2572\n",
       "2 Main Mall & Crescent Road                    49.26894 -123.2566\n",
       "3 Main Mall & Memorial Road                    49.26777 -123.2550\n",
       "4 2008 LOWER MALL Ponderosa Annex F            49.26497 -123.2575\n",
       "5 2011 WEST MALL Ponderosa Annex A             49.26534 -123.2562\n",
       "6 6224 AGRICULTURAL RD/EAST MALL Hennings Bldg 49.26697 -123.2518"
      ]
     },
     "metadata": {},
     "output_type": "display_data"
    }
   ],
   "source": [
    "Bluephone_location <- read_csv(\"data/Bluephone Locations My Map Downloaded with coordinates.csv\")\n",
    "head(Bluephone_location)"
   ]
  },
  {
   "cell_type": "code",
   "execution_count": 3,
   "id": "6c60ae2d-2616-429a-90c5-1575d26a9425",
   "metadata": {
    "slideshow": {
     "slide_type": "slide"
    }
   },
   "outputs": [],
   "source": [
    "Bluephone_location <- Bluephone_location |>\n",
    "    mutate(across(Longitude, as.double))"
   ]
  },
  {
   "cell_type": "code",
   "execution_count": 4,
   "id": "0248df43-5c76-44a5-a7ed-91e182b7ea85",
   "metadata": {
    "slideshow": {
     "slide_type": "slide"
    }
   },
   "outputs": [
    {
     "data": {
      "text/html": [
       "<table class=\"dataframe\">\n",
       "<caption>A tibble: 6 × 4</caption>\n",
       "<thead>\n",
       "\t<tr><th scope=col>Formal_Name_and_Room</th><th scope=col>Street_Address</th><th scope=col>Latitude</th><th scope=col>Longitude</th></tr>\n",
       "\t<tr><th scope=col>&lt;chr&gt;</th><th scope=col>&lt;chr&gt;</th><th scope=col>&lt;dbl&gt;</th><th scope=col>&lt;dbl&gt;</th></tr>\n",
       "</thead>\n",
       "<tbody>\n",
       "\t<tr><td>Blue Phone 01 ANSOC @ Northwest Marine Drive             </td><td>6303 N W MARINE DR at ANSOC Building        </td><td>49.26973</td><td>-123.2572</td></tr>\n",
       "\t<tr><td>Blue Phone 03 Flagpole Plaza @ Main Mall &amp; Crescent Road </td><td><span style=white-space:pre-wrap>Main Mall &amp; Crescent Road                   </span></td><td>49.26894</td><td>-123.2566</td></tr>\n",
       "\t<tr><td><span style=white-space:pre-wrap>Blue Phone 04 Wyman Plaza @ Main Mall &amp; Memorial Road    </span></td><td><span style=white-space:pre-wrap>Main Mall &amp; Memorial Road                   </span></td><td>49.26777</td><td>-123.2550</td></tr>\n",
       "\t<tr><td>Blue Phone 05 Ponderosa F @ Lower Mall &amp; Pedestrian Path </td><td><span style=white-space:pre-wrap>2008 LOWER MALL Ponderosa Annex F           </span></td><td>49.26497</td><td>-123.2575</td></tr>\n",
       "\t<tr><td>Blue Phone 06 Ponderosa A @ West Mall &amp; Agricultural Road</td><td><span style=white-space:pre-wrap>2011 WEST MALL Ponderosa Annex A            </span></td><td>49.26534</td><td>-123.2562</td></tr>\n",
       "\t<tr><td><span style=white-space:pre-wrap>Blue Phone 07 Hennings @ East Mall &amp; Agricultural Road   </span></td><td>6224 AGRICULTURAL RD/EAST MALL Hennings Bldg</td><td>49.26697</td><td>-123.2518</td></tr>\n",
       "</tbody>\n",
       "</table>\n"
      ],
      "text/latex": [
       "A tibble: 6 × 4\n",
       "\\begin{tabular}{llll}\n",
       " Formal\\_Name\\_and\\_Room & Street\\_Address & Latitude & Longitude\\\\\n",
       " <chr> & <chr> & <dbl> & <dbl>\\\\\n",
       "\\hline\n",
       "\t Blue Phone 01 ANSOC @ Northwest Marine Drive              & 6303 N W MARINE DR at ANSOC Building         & 49.26973 & -123.2572\\\\\n",
       "\t Blue Phone 03 Flagpole Plaza @ Main Mall \\& Crescent Road  & Main Mall \\& Crescent Road                    & 49.26894 & -123.2566\\\\\n",
       "\t Blue Phone 04 Wyman Plaza @ Main Mall \\& Memorial Road     & Main Mall \\& Memorial Road                    & 49.26777 & -123.2550\\\\\n",
       "\t Blue Phone 05 Ponderosa F @ Lower Mall \\& Pedestrian Path  & 2008 LOWER MALL Ponderosa Annex F            & 49.26497 & -123.2575\\\\\n",
       "\t Blue Phone 06 Ponderosa A @ West Mall \\& Agricultural Road & 2011 WEST MALL Ponderosa Annex A             & 49.26534 & -123.2562\\\\\n",
       "\t Blue Phone 07 Hennings @ East Mall \\& Agricultural Road    & 6224 AGRICULTURAL RD/EAST MALL Hennings Bldg & 49.26697 & -123.2518\\\\\n",
       "\\end{tabular}\n"
      ],
      "text/markdown": [
       "\n",
       "A tibble: 6 × 4\n",
       "\n",
       "| Formal_Name_and_Room &lt;chr&gt; | Street_Address &lt;chr&gt; | Latitude &lt;dbl&gt; | Longitude &lt;dbl&gt; |\n",
       "|---|---|---|---|\n",
       "| Blue Phone 01 ANSOC @ Northwest Marine Drive              | 6303 N W MARINE DR at ANSOC Building         | 49.26973 | -123.2572 |\n",
       "| Blue Phone 03 Flagpole Plaza @ Main Mall &amp; Crescent Road  | Main Mall &amp; Crescent Road                    | 49.26894 | -123.2566 |\n",
       "| Blue Phone 04 Wyman Plaza @ Main Mall &amp; Memorial Road     | Main Mall &amp; Memorial Road                    | 49.26777 | -123.2550 |\n",
       "| Blue Phone 05 Ponderosa F @ Lower Mall &amp; Pedestrian Path  | 2008 LOWER MALL Ponderosa Annex F            | 49.26497 | -123.2575 |\n",
       "| Blue Phone 06 Ponderosa A @ West Mall &amp; Agricultural Road | 2011 WEST MALL Ponderosa Annex A             | 49.26534 | -123.2562 |\n",
       "| Blue Phone 07 Hennings @ East Mall &amp; Agricultural Road    | 6224 AGRICULTURAL RD/EAST MALL Hennings Bldg | 49.26697 | -123.2518 |\n",
       "\n"
      ],
      "text/plain": [
       "  Formal_Name_and_Room                                     \n",
       "1 Blue Phone 01 ANSOC @ Northwest Marine Drive             \n",
       "2 Blue Phone 03 Flagpole Plaza @ Main Mall & Crescent Road \n",
       "3 Blue Phone 04 Wyman Plaza @ Main Mall & Memorial Road    \n",
       "4 Blue Phone 05 Ponderosa F @ Lower Mall & Pedestrian Path \n",
       "5 Blue Phone 06 Ponderosa A @ West Mall & Agricultural Road\n",
       "6 Blue Phone 07 Hennings @ East Mall & Agricultural Road   \n",
       "  Street_Address                               Latitude Longitude\n",
       "1 6303 N W MARINE DR at ANSOC Building         49.26973 -123.2572\n",
       "2 Main Mall & Crescent Road                    49.26894 -123.2566\n",
       "3 Main Mall & Memorial Road                    49.26777 -123.2550\n",
       "4 2008 LOWER MALL Ponderosa Annex F            49.26497 -123.2575\n",
       "5 2011 WEST MALL Ponderosa Annex A             49.26534 -123.2562\n",
       "6 6224 AGRICULTURAL RD/EAST MALL Hennings Bldg 49.26697 -123.2518"
      ]
     },
     "metadata": {},
     "output_type": "display_data"
    }
   ],
   "source": [
    "head(Bluephone_location)"
   ]
  },
  {
   "cell_type": "code",
   "execution_count": 5,
   "id": "f8ead6e4-c550-4171-bdf0-fad75f3f8d41",
   "metadata": {},
   "outputs": [],
   "source": [
    "base_map <- leaflet() %>%\n",
    "    addTiles() %>%\n",
    "    fitBounds(-123.22,49.263,-123.28,49.27)\n",
    "\n",
    "#base_map"
   ]
  },
  {
   "cell_type": "code",
   "execution_count": 6,
   "id": "7fdee7c9-e9cf-4f3a-9432-5e0e7f490f3e",
   "metadata": {},
   "outputs": [],
   "source": [
    "# save the map view\n",
    "#mapshot(base_map, file = \"Map Image Save/base map.png\")"
   ]
  },
  {
   "cell_type": "markdown",
   "id": "924ea730-6e63-4234-8576-006d04a31326",
   "metadata": {},
   "source": [
    "<!-- mapshot(base_map, file = \"Map Image Save/base map.png\") -->\n",
    "<img src=\"Map Image Save/base map.png\" width=\"600\" height=\"300\">"
   ]
  },
  {
   "cell_type": "code",
   "execution_count": 7,
   "id": "fe5fd230-2ea0-4da3-9f04-e73ecc674012",
   "metadata": {
    "tags": []
   },
   "outputs": [],
   "source": [
    "bluephone_map <- leaflet(data = Bluephone_location) %>%\n",
    "    addTiles() %>%\n",
    "    fitBounds(-123.22,49.263,-123.28,49.27) %>%\n",
    "    addMarkers(lng = ~Longitude, \n",
    "               lat = ~Latitude, \n",
    "               popup = ~Street_Address, label = ~Formal_Name_and_Room)\n",
    "\n",
    "#bluephone_map"
   ]
  },
  {
   "cell_type": "code",
   "execution_count": 8,
   "id": "0ead2ff7-6ae7-4417-bbeb-bca3a2ce3515",
   "metadata": {},
   "outputs": [],
   "source": [
    "# save the map view\n",
    "#mapshot(bluephone_map, file = \"Map Image Save/bluephone map.png\")"
   ]
  },
  {
   "cell_type": "markdown",
   "id": "deb88f47-cf69-4916-8a1b-dce276134567",
   "metadata": {},
   "source": [
    "<!-- mapshot(base_map, file = \"Map Image Save/base map.png\") -->\n",
    "<img src=\"Map Image Save/bluephone map.png\" width=\"600\" height=\"300\">"
   ]
  },
  {
   "cell_type": "code",
   "execution_count": 9,
   "id": "d533a451-04ee-42b9-b928-d9e43c3fdab0",
   "metadata": {
    "tags": []
   },
   "outputs": [],
   "source": [
    "# heatmap of bluephone density\n",
    "bluephone_heatmap <- addHeatmap(base_map, lng = ~Longitude, lat = ~Latitude,  intensity = 0.1,\n",
    "    layerId = NULL, group = NULL, minOpacity = 0.05, max = 0.05,\n",
    "    radius = 20, blur = 25, gradient = NULL, cellSize = 10,\n",
    "    data = Bluephone_location)\n",
    "\n",
    "#bluephone_heatmap"
   ]
  },
  {
   "cell_type": "code",
   "execution_count": 10,
   "id": "5315b7d0-de34-453c-a7c2-86e90210421d",
   "metadata": {},
   "outputs": [],
   "source": [
    "# save the map view\n",
    "#mapshot(bluephone_heatmap, file = \"Map Image Save/bluephone heatmap.png\")"
   ]
  },
  {
   "cell_type": "markdown",
   "id": "168535da-eb8d-4142-8e13-0dbcf696722e",
   "metadata": {},
   "source": [
    "<!-- mapshot(base_map, file = \"Map Image Save/base map.png\") -->\n",
    "<img src=\"Map Image Save/bluephone heatmap.png\" width=\"600\" height=\"300\">"
   ]
  },
  {
   "cell_type": "code",
   "execution_count": 11,
   "id": "d8a892f2-c451-4fa0-86a7-b0f45541556a",
   "metadata": {
    "tags": []
   },
   "outputs": [
    {
     "data": {
      "text/html": [
       "<table class=\"dataframe\">\n",
       "<caption>A tibble: 6 × 4</caption>\n",
       "<thead>\n",
       "\t<tr><th scope=col>Formal_Name_and_Room</th><th scope=col>Street_Address</th><th scope=col>Latitude</th><th scope=col>Longitude</th></tr>\n",
       "\t<tr><th scope=col>&lt;chr&gt;</th><th scope=col>&lt;chr&gt;</th><th scope=col>&lt;dbl&gt;</th><th scope=col>&lt;dbl&gt;</th></tr>\n",
       "</thead>\n",
       "<tbody>\n",
       "\t<tr><td>Blue Phone 01 ANSOC @ Northwest Marine Drive             </td><td>6303 N W MARINE DR at ANSOC Building        </td><td>49.26973</td><td>-123.2572</td></tr>\n",
       "\t<tr><td>Blue Phone 03 Flagpole Plaza @ Main Mall &amp; Crescent Road </td><td><span style=white-space:pre-wrap>Main Mall &amp; Crescent Road                   </span></td><td>49.26894</td><td>-123.2566</td></tr>\n",
       "\t<tr><td><span style=white-space:pre-wrap>Blue Phone 04 Wyman Plaza @ Main Mall &amp; Memorial Road    </span></td><td><span style=white-space:pre-wrap>Main Mall &amp; Memorial Road                   </span></td><td>49.26777</td><td>-123.2550</td></tr>\n",
       "\t<tr><td>Blue Phone 05 Ponderosa F @ Lower Mall &amp; Pedestrian Path </td><td><span style=white-space:pre-wrap>2008 LOWER MALL Ponderosa Annex F           </span></td><td>49.26497</td><td>-123.2575</td></tr>\n",
       "\t<tr><td>Blue Phone 06 Ponderosa A @ West Mall &amp; Agricultural Road</td><td><span style=white-space:pre-wrap>2011 WEST MALL Ponderosa Annex A            </span></td><td>49.26534</td><td>-123.2562</td></tr>\n",
       "\t<tr><td><span style=white-space:pre-wrap>Blue Phone 07 Hennings @ East Mall &amp; Agricultural Road   </span></td><td>6224 AGRICULTURAL RD/EAST MALL Hennings Bldg</td><td>49.26697</td><td>-123.2518</td></tr>\n",
       "</tbody>\n",
       "</table>\n"
      ],
      "text/latex": [
       "A tibble: 6 × 4\n",
       "\\begin{tabular}{llll}\n",
       " Formal\\_Name\\_and\\_Room & Street\\_Address & Latitude & Longitude\\\\\n",
       " <chr> & <chr> & <dbl> & <dbl>\\\\\n",
       "\\hline\n",
       "\t Blue Phone 01 ANSOC @ Northwest Marine Drive              & 6303 N W MARINE DR at ANSOC Building         & 49.26973 & -123.2572\\\\\n",
       "\t Blue Phone 03 Flagpole Plaza @ Main Mall \\& Crescent Road  & Main Mall \\& Crescent Road                    & 49.26894 & -123.2566\\\\\n",
       "\t Blue Phone 04 Wyman Plaza @ Main Mall \\& Memorial Road     & Main Mall \\& Memorial Road                    & 49.26777 & -123.2550\\\\\n",
       "\t Blue Phone 05 Ponderosa F @ Lower Mall \\& Pedestrian Path  & 2008 LOWER MALL Ponderosa Annex F            & 49.26497 & -123.2575\\\\\n",
       "\t Blue Phone 06 Ponderosa A @ West Mall \\& Agricultural Road & 2011 WEST MALL Ponderosa Annex A             & 49.26534 & -123.2562\\\\\n",
       "\t Blue Phone 07 Hennings @ East Mall \\& Agricultural Road    & 6224 AGRICULTURAL RD/EAST MALL Hennings Bldg & 49.26697 & -123.2518\\\\\n",
       "\\end{tabular}\n"
      ],
      "text/markdown": [
       "\n",
       "A tibble: 6 × 4\n",
       "\n",
       "| Formal_Name_and_Room &lt;chr&gt; | Street_Address &lt;chr&gt; | Latitude &lt;dbl&gt; | Longitude &lt;dbl&gt; |\n",
       "|---|---|---|---|\n",
       "| Blue Phone 01 ANSOC @ Northwest Marine Drive              | 6303 N W MARINE DR at ANSOC Building         | 49.26973 | -123.2572 |\n",
       "| Blue Phone 03 Flagpole Plaza @ Main Mall &amp; Crescent Road  | Main Mall &amp; Crescent Road                    | 49.26894 | -123.2566 |\n",
       "| Blue Phone 04 Wyman Plaza @ Main Mall &amp; Memorial Road     | Main Mall &amp; Memorial Road                    | 49.26777 | -123.2550 |\n",
       "| Blue Phone 05 Ponderosa F @ Lower Mall &amp; Pedestrian Path  | 2008 LOWER MALL Ponderosa Annex F            | 49.26497 | -123.2575 |\n",
       "| Blue Phone 06 Ponderosa A @ West Mall &amp; Agricultural Road | 2011 WEST MALL Ponderosa Annex A             | 49.26534 | -123.2562 |\n",
       "| Blue Phone 07 Hennings @ East Mall &amp; Agricultural Road    | 6224 AGRICULTURAL RD/EAST MALL Hennings Bldg | 49.26697 | -123.2518 |\n",
       "\n"
      ],
      "text/plain": [
       "  Formal_Name_and_Room                                     \n",
       "1 Blue Phone 01 ANSOC @ Northwest Marine Drive             \n",
       "2 Blue Phone 03 Flagpole Plaza @ Main Mall & Crescent Road \n",
       "3 Blue Phone 04 Wyman Plaza @ Main Mall & Memorial Road    \n",
       "4 Blue Phone 05 Ponderosa F @ Lower Mall & Pedestrian Path \n",
       "5 Blue Phone 06 Ponderosa A @ West Mall & Agricultural Road\n",
       "6 Blue Phone 07 Hennings @ East Mall & Agricultural Road   \n",
       "  Street_Address                               Latitude Longitude\n",
       "1 6303 N W MARINE DR at ANSOC Building         49.26973 -123.2572\n",
       "2 Main Mall & Crescent Road                    49.26894 -123.2566\n",
       "3 Main Mall & Memorial Road                    49.26777 -123.2550\n",
       "4 2008 LOWER MALL Ponderosa Annex F            49.26497 -123.2575\n",
       "5 2011 WEST MALL Ponderosa Annex A             49.26534 -123.2562\n",
       "6 6224 AGRICULTURAL RD/EAST MALL Hennings Bldg 49.26697 -123.2518"
      ]
     },
     "metadata": {},
     "output_type": "display_data"
    }
   ],
   "source": [
    "head(Bluephone_location)"
   ]
  },
  {
   "cell_type": "code",
   "execution_count": 12,
   "id": "68583a5b-37a1-4abe-b855-b5f734e86d9e",
   "metadata": {},
   "outputs": [],
   "source": [
    "bluephone_lon_lat <- Bluephone_location |>\n",
    "    select(Longitude, Latitude)"
   ]
  },
  {
   "cell_type": "code",
   "execution_count": 13,
   "id": "dc9c2220-04ae-40b7-b4c8-750bd84a4b72",
   "metadata": {},
   "outputs": [
    {
     "data": {
      "text/html": [
       "<table class=\"dataframe\">\n",
       "<caption>A tibble: 1 × 4</caption>\n",
       "<thead>\n",
       "\t<tr><th scope=col>Formal_Name_and_Room</th><th scope=col>Street_Address</th><th scope=col>Latitude</th><th scope=col>Longitude</th></tr>\n",
       "\t<tr><th scope=col>&lt;chr&gt;</th><th scope=col>&lt;chr&gt;</th><th scope=col>&lt;dbl&gt;</th><th scope=col>&lt;dbl&gt;</th></tr>\n",
       "</thead>\n",
       "<tbody>\n",
       "\t<tr><td>Blue Phone 89</td><td>Saltwater Octopus House</td><td>49.27075</td><td>-123.248</td></tr>\n",
       "</tbody>\n",
       "</table>\n"
      ],
      "text/latex": [
       "A tibble: 1 × 4\n",
       "\\begin{tabular}{llll}\n",
       " Formal\\_Name\\_and\\_Room & Street\\_Address & Latitude & Longitude\\\\\n",
       " <chr> & <chr> & <dbl> & <dbl>\\\\\n",
       "\\hline\n",
       "\t Blue Phone 89 & Saltwater Octopus House & 49.27075 & -123.248\\\\\n",
       "\\end{tabular}\n"
      ],
      "text/markdown": [
       "\n",
       "A tibble: 1 × 4\n",
       "\n",
       "| Formal_Name_and_Room &lt;chr&gt; | Street_Address &lt;chr&gt; | Latitude &lt;dbl&gt; | Longitude &lt;dbl&gt; |\n",
       "|---|---|---|---|\n",
       "| Blue Phone 89 | Saltwater Octopus House | 49.27075 | -123.248 |\n",
       "\n"
      ],
      "text/plain": [
       "  Formal_Name_and_Room Street_Address          Latitude Longitude\n",
       "1 Blue Phone 89        Saltwater Octopus House 49.27075 -123.248 "
      ]
     },
     "metadata": {},
     "output_type": "display_data"
    },
    {
     "data": {
      "text/html": [
       "<table class=\"dataframe\">\n",
       "<caption>A tibble: 1 × 2</caption>\n",
       "<thead>\n",
       "\t<tr><th scope=col>Longitude</th><th scope=col>Latitude</th></tr>\n",
       "\t<tr><th scope=col>&lt;dbl&gt;</th><th scope=col>&lt;dbl&gt;</th></tr>\n",
       "</thead>\n",
       "<tbody>\n",
       "\t<tr><td>-123.248</td><td>49.27075</td></tr>\n",
       "</tbody>\n",
       "</table>\n"
      ],
      "text/latex": [
       "A tibble: 1 × 2\n",
       "\\begin{tabular}{ll}\n",
       " Longitude & Latitude\\\\\n",
       " <dbl> & <dbl>\\\\\n",
       "\\hline\n",
       "\t -123.248 & 49.27075\\\\\n",
       "\\end{tabular}\n"
      ],
      "text/markdown": [
       "\n",
       "A tibble: 1 × 2\n",
       "\n",
       "| Longitude &lt;dbl&gt; | Latitude &lt;dbl&gt; |\n",
       "|---|---|\n",
       "| -123.248 | 49.27075 |\n",
       "\n"
      ],
      "text/plain": [
       "  Longitude Latitude\n",
       "1 -123.248  49.27075"
      ]
     },
     "metadata": {},
     "output_type": "display_data"
    },
    {
     "name": "stderr",
     "output_type": "stream",
     "text": [
      "\u001b[1m\u001b[22m`summarise()` has grouped output by 'Formal_Name_and_Room', 'Latitude'. You can\n",
      "override using the `.groups` argument.\n"
     ]
    },
    {
     "data": {
      "text/html": [
       "<table class=\"dataframe\">\n",
       "<caption>A grouped_df: 1 × 7</caption>\n",
       "<thead>\n",
       "\t<tr><th scope=col>Bluephone_origin</th><th scope=col>origin_Lat</th><th scope=col>origin_Lon</th><th scope=col>closest_Bluephone</th><th scope=col>closest_lat</th><th scope=col>closest_lon</th><th scope=col>distance</th></tr>\n",
       "\t<tr><th scope=col>&lt;chr&gt;</th><th scope=col>&lt;dbl&gt;</th><th scope=col>&lt;dbl&gt;</th><th scope=col>&lt;chr&gt;</th><th scope=col>&lt;dbl&gt;</th><th scope=col>&lt;dbl&gt;</th><th scope=col>&lt;dbl&gt;</th></tr>\n",
       "</thead>\n",
       "<tbody>\n",
       "\t<tr><td>Blue Phone 89</td><td>49.27075</td><td>-123.248</td><td>Blue Phone 88</td><td>49.27007</td><td>-123.2484</td><td>80.77666</td></tr>\n",
       "</tbody>\n",
       "</table>\n"
      ],
      "text/latex": [
       "A grouped\\_df: 1 × 7\n",
       "\\begin{tabular}{lllllll}\n",
       " Bluephone\\_origin & origin\\_Lat & origin\\_Lon & closest\\_Bluephone & closest\\_lat & closest\\_lon & distance\\\\\n",
       " <chr> & <dbl> & <dbl> & <chr> & <dbl> & <dbl> & <dbl>\\\\\n",
       "\\hline\n",
       "\t Blue Phone 89 & 49.27075 & -123.248 & Blue Phone 88 & 49.27007 & -123.2484 & 80.77666\\\\\n",
       "\\end{tabular}\n"
      ],
      "text/markdown": [
       "\n",
       "A grouped_df: 1 × 7\n",
       "\n",
       "| Bluephone_origin &lt;chr&gt; | origin_Lat &lt;dbl&gt; | origin_Lon &lt;dbl&gt; | closest_Bluephone &lt;chr&gt; | closest_lat &lt;dbl&gt; | closest_lon &lt;dbl&gt; | distance &lt;dbl&gt; |\n",
       "|---|---|---|---|---|---|---|\n",
       "| Blue Phone 89 | 49.27075 | -123.248 | Blue Phone 88 | 49.27007 | -123.2484 | 80.77666 |\n",
       "\n"
      ],
      "text/plain": [
       "  Bluephone_origin origin_Lat origin_Lon closest_Bluephone closest_lat\n",
       "1 Blue Phone 89    49.27075   -123.248   Blue Phone 88     49.27007   \n",
       "  closest_lon distance\n",
       "1 -123.2484   80.77666"
      ]
     },
     "metadata": {},
     "output_type": "display_data"
    }
   ],
   "source": [
    "first_bluephone <- Bluephone_location[89, ]\n",
    "first_bluephone\n",
    "first_bluephone_lon_lat <- select(first_bluephone, Longitude, Latitude)\n",
    "first_bluephone_lon_lat\n",
    "rest_bluephone <- Bluephone_location |>\n",
    "        filter(Latitude != pull(first_bluephone, Latitude))\n",
    "\n",
    "Bluephone_distance <- rest_bluephone |>\n",
    "        group_by(Formal_Name_and_Room, Latitude, Longitude) |>\n",
    "        summarize(distance = distGeo(first_bluephone_lon_lat, c(Longitude, Latitude))) |>\n",
    "        arrange(distance) |>\n",
    "        head(1) |>\n",
    "        mutate(Bluephone_origin = pull(first_bluephone, Formal_Name_and_Room), \n",
    "               origin_Lat = pull(first_bluephone, Latitude), \n",
    "               origin_Lon = pull(first_bluephone, Longitude)) |>\n",
    "        select(Bluephone_origin, origin_Lat, origin_Lon, Formal_Name_and_Room, Latitude, Longitude, distance)\n",
    "\n",
    "colnames(Bluephone_distance) <- c(\"Bluephone_origin\", \"origin_Lat\", \"origin_Lon\", \"closest_Bluephone\", \"closest_lat\", \"closest_lon\", \"distance\")\n",
    "\n",
    "Bluephone_distance"
   ]
  },
  {
   "cell_type": "code",
   "execution_count": 14,
   "id": "3772726d-886e-4b77-bc3d-1a83ba23c7a5",
   "metadata": {},
   "outputs": [
    {
     "data": {
      "text/html": [
       "<table class=\"dataframe\">\n",
       "<caption>A tibble: 0 × 7</caption>\n",
       "<thead>\n",
       "\t<tr><th scope=col>Bluephone_origin</th><th scope=col>origin_Lat</th><th scope=col>origin_Lon</th><th scope=col>closest_Bluephone</th><th scope=col>closest_lat</th><th scope=col>closest_lon</th><th scope=col>distance</th></tr>\n",
       "\t<tr><th scope=col>&lt;chr&gt;</th><th scope=col>&lt;dbl&gt;</th><th scope=col>&lt;dbl&gt;</th><th scope=col>&lt;chr&gt;</th><th scope=col>&lt;dbl&gt;</th><th scope=col>&lt;dbl&gt;</th><th scope=col>&lt;dbl&gt;</th></tr>\n",
       "</thead>\n",
       "<tbody>\n",
       "</tbody>\n",
       "</table>\n"
      ],
      "text/latex": [
       "A tibble: 0 × 7\n",
       "\\begin{tabular}{lllllll}\n",
       " Bluephone\\_origin & origin\\_Lat & origin\\_Lon & closest\\_Bluephone & closest\\_lat & closest\\_lon & distance\\\\\n",
       " <chr> & <dbl> & <dbl> & <chr> & <dbl> & <dbl> & <dbl>\\\\\n",
       "\\hline\n",
       "\\end{tabular}\n"
      ],
      "text/markdown": [
       "\n",
       "A tibble: 0 × 7\n",
       "\n",
       "| Bluephone_origin &lt;chr&gt; | origin_Lat &lt;dbl&gt; | origin_Lon &lt;dbl&gt; | closest_Bluephone &lt;chr&gt; | closest_lat &lt;dbl&gt; | closest_lon &lt;dbl&gt; | distance &lt;dbl&gt; |\n",
       "|---|---|---|---|---|---|---|\n",
       "\n"
      ],
      "text/plain": [
       "     Bluephone_origin origin_Lat origin_Lon closest_Bluephone closest_lat\n",
       "     closest_lon distance"
      ]
     },
     "metadata": {},
     "output_type": "display_data"
    }
   ],
   "source": [
    "bluephone_closest_distance <- as_tibble(filter(Bluephone_distance, Bluephone_origin == 1))\n",
    "bluephone_closest_distance"
   ]
  },
  {
   "cell_type": "code",
   "execution_count": 15,
   "id": "42206880-94bd-45a7-acb1-12ce3f95607a",
   "metadata": {},
   "outputs": [
    {
     "data": {
      "text/html": [
       "<table class=\"dataframe\">\n",
       "<caption>A grouped_df: 6 × 7</caption>\n",
       "<thead>\n",
       "\t<tr><th scope=col>Bluephone_origin</th><th scope=col>origin_Lat</th><th scope=col>origin_Lon</th><th scope=col>closest_Bluephone</th><th scope=col>closest_lat</th><th scope=col>closest_lon</th><th scope=col>distance</th></tr>\n",
       "\t<tr><th scope=col>&lt;chr&gt;</th><th scope=col>&lt;dbl&gt;</th><th scope=col>&lt;dbl&gt;</th><th scope=col>&lt;chr&gt;</th><th scope=col>&lt;dbl&gt;</th><th scope=col>&lt;dbl&gt;</th><th scope=col>&lt;dbl&gt;</th></tr>\n",
       "</thead>\n",
       "<tbody>\n",
       "\t<tr><td>Blue Phone 01 ANSOC @ Northwest Marine Drive             </td><td>49.26973</td><td>-123.2572</td><td>Blue Phone 62 Rose Garden Parkade Elevator Level 5                  </td><td>49.26945</td><td>-123.2566</td><td> 55.42414</td></tr>\n",
       "\t<tr><td>Blue Phone 03 Flagpole Plaza @ Main Mall &amp; Crescent Road </td><td>49.26894</td><td>-123.2566</td><td><span style=white-space:pre-wrap>Blue Phone 62 Rose Garden Parkade Elevator Level 5                  </span></td><td>49.26945</td><td>-123.2566</td><td> 56.72429</td></tr>\n",
       "\t<tr><td><span style=white-space:pre-wrap>Blue Phone 04 Wyman Plaza @ Main Mall &amp; Memorial Road    </span></td><td>49.26777</td><td>-123.2550</td><td><span style=white-space:pre-wrap>Blue Phone 03 Flagpole Plaza @ Main Mall &amp; Crescent Road            </span></td><td>49.26894</td><td>-123.2566</td><td>171.26136</td></tr>\n",
       "\t<tr><td>Blue Phone 05 Ponderosa F @ Lower Mall &amp; Pedestrian Path </td><td>49.26497</td><td>-123.2575</td><td><span style=white-space:pre-wrap>Blue Phone 48 Fraser River Parkade South West Level 1               </span></td><td>49.26568</td><td>-123.2583</td><td> 94.76914</td></tr>\n",
       "\t<tr><td>Blue Phone 06 Ponderosa A @ West Mall &amp; Agricultural Road</td><td>49.26534</td><td>-123.2562</td><td><span style=white-space:pre-wrap>Blue Phone 05 Ponderosa F @ Lower Mall &amp; Pedestrian Path            </span></td><td>49.26497</td><td>-123.2575</td><td>103.17813</td></tr>\n",
       "\t<tr><td><span style=white-space:pre-wrap>Blue Phone 07 Hennings @ East Mall &amp; Agricultural Road   </span></td><td>49.26697</td><td>-123.2518</td><td>Blue Phone 41 Thunderbird Park pedestrian pathway near Soccer Centre</td><td>49.26753</td><td>-123.2527</td><td> 87.78280</td></tr>\n",
       "</tbody>\n",
       "</table>\n"
      ],
      "text/latex": [
       "A grouped\\_df: 6 × 7\n",
       "\\begin{tabular}{lllllll}\n",
       " Bluephone\\_origin & origin\\_Lat & origin\\_Lon & closest\\_Bluephone & closest\\_lat & closest\\_lon & distance\\\\\n",
       " <chr> & <dbl> & <dbl> & <chr> & <dbl> & <dbl> & <dbl>\\\\\n",
       "\\hline\n",
       "\t Blue Phone 01 ANSOC @ Northwest Marine Drive              & 49.26973 & -123.2572 & Blue Phone 62 Rose Garden Parkade Elevator Level 5                   & 49.26945 & -123.2566 &  55.42414\\\\\n",
       "\t Blue Phone 03 Flagpole Plaza @ Main Mall \\& Crescent Road  & 49.26894 & -123.2566 & Blue Phone 62 Rose Garden Parkade Elevator Level 5                   & 49.26945 & -123.2566 &  56.72429\\\\\n",
       "\t Blue Phone 04 Wyman Plaza @ Main Mall \\& Memorial Road     & 49.26777 & -123.2550 & Blue Phone 03 Flagpole Plaza @ Main Mall \\& Crescent Road             & 49.26894 & -123.2566 & 171.26136\\\\\n",
       "\t Blue Phone 05 Ponderosa F @ Lower Mall \\& Pedestrian Path  & 49.26497 & -123.2575 & Blue Phone 48 Fraser River Parkade South West Level 1                & 49.26568 & -123.2583 &  94.76914\\\\\n",
       "\t Blue Phone 06 Ponderosa A @ West Mall \\& Agricultural Road & 49.26534 & -123.2562 & Blue Phone 05 Ponderosa F @ Lower Mall \\& Pedestrian Path             & 49.26497 & -123.2575 & 103.17813\\\\\n",
       "\t Blue Phone 07 Hennings @ East Mall \\& Agricultural Road    & 49.26697 & -123.2518 & Blue Phone 41 Thunderbird Park pedestrian pathway near Soccer Centre & 49.26753 & -123.2527 &  87.78280\\\\\n",
       "\\end{tabular}\n"
      ],
      "text/markdown": [
       "\n",
       "A grouped_df: 6 × 7\n",
       "\n",
       "| Bluephone_origin &lt;chr&gt; | origin_Lat &lt;dbl&gt; | origin_Lon &lt;dbl&gt; | closest_Bluephone &lt;chr&gt; | closest_lat &lt;dbl&gt; | closest_lon &lt;dbl&gt; | distance &lt;dbl&gt; |\n",
       "|---|---|---|---|---|---|---|\n",
       "| Blue Phone 01 ANSOC @ Northwest Marine Drive              | 49.26973 | -123.2572 | Blue Phone 62 Rose Garden Parkade Elevator Level 5                   | 49.26945 | -123.2566 |  55.42414 |\n",
       "| Blue Phone 03 Flagpole Plaza @ Main Mall &amp; Crescent Road  | 49.26894 | -123.2566 | Blue Phone 62 Rose Garden Parkade Elevator Level 5                   | 49.26945 | -123.2566 |  56.72429 |\n",
       "| Blue Phone 04 Wyman Plaza @ Main Mall &amp; Memorial Road     | 49.26777 | -123.2550 | Blue Phone 03 Flagpole Plaza @ Main Mall &amp; Crescent Road             | 49.26894 | -123.2566 | 171.26136 |\n",
       "| Blue Phone 05 Ponderosa F @ Lower Mall &amp; Pedestrian Path  | 49.26497 | -123.2575 | Blue Phone 48 Fraser River Parkade South West Level 1                | 49.26568 | -123.2583 |  94.76914 |\n",
       "| Blue Phone 06 Ponderosa A @ West Mall &amp; Agricultural Road | 49.26534 | -123.2562 | Blue Phone 05 Ponderosa F @ Lower Mall &amp; Pedestrian Path             | 49.26497 | -123.2575 | 103.17813 |\n",
       "| Blue Phone 07 Hennings @ East Mall &amp; Agricultural Road    | 49.26697 | -123.2518 | Blue Phone 41 Thunderbird Park pedestrian pathway near Soccer Centre | 49.26753 | -123.2527 |  87.78280 |\n",
       "\n"
      ],
      "text/plain": [
       "  Bluephone_origin                                          origin_Lat\n",
       "1 Blue Phone 01 ANSOC @ Northwest Marine Drive              49.26973  \n",
       "2 Blue Phone 03 Flagpole Plaza @ Main Mall & Crescent Road  49.26894  \n",
       "3 Blue Phone 04 Wyman Plaza @ Main Mall & Memorial Road     49.26777  \n",
       "4 Blue Phone 05 Ponderosa F @ Lower Mall & Pedestrian Path  49.26497  \n",
       "5 Blue Phone 06 Ponderosa A @ West Mall & Agricultural Road 49.26534  \n",
       "6 Blue Phone 07 Hennings @ East Mall & Agricultural Road    49.26697  \n",
       "  origin_Lon\n",
       "1 -123.2572 \n",
       "2 -123.2566 \n",
       "3 -123.2550 \n",
       "4 -123.2575 \n",
       "5 -123.2562 \n",
       "6 -123.2518 \n",
       "  closest_Bluephone                                                   \n",
       "1 Blue Phone 62 Rose Garden Parkade Elevator Level 5                  \n",
       "2 Blue Phone 62 Rose Garden Parkade Elevator Level 5                  \n",
       "3 Blue Phone 03 Flagpole Plaza @ Main Mall & Crescent Road            \n",
       "4 Blue Phone 48 Fraser River Parkade South West Level 1               \n",
       "5 Blue Phone 05 Ponderosa F @ Lower Mall & Pedestrian Path            \n",
       "6 Blue Phone 41 Thunderbird Park pedestrian pathway near Soccer Centre\n",
       "  closest_lat closest_lon distance \n",
       "1 49.26945    -123.2566    55.42414\n",
       "2 49.26945    -123.2566    56.72429\n",
       "3 49.26894    -123.2566   171.26136\n",
       "4 49.26568    -123.2583    94.76914\n",
       "5 49.26497    -123.2575   103.17813\n",
       "6 49.26753    -123.2527    87.78280"
      ]
     },
     "metadata": {},
     "output_type": "display_data"
    }
   ],
   "source": [
    "bluephone_closest_distance <- filter(Bluephone_distance, Bluephone_origin == 1)\n",
    "\n",
    "options(dplyr.summarise.inform = FALSE) #disable dplyr messages in code\n",
    "\n",
    "for (i in 1:89){\n",
    "    first_bluephone <- Bluephone_location[i, ]\n",
    "    first_bluephone_lon_lat <- select(first_bluephone, Longitude, Latitude)\n",
    "    rest_bluephone <- Bluephone_location |>\n",
    "        filter(Latitude != pull(first_bluephone, Latitude))\n",
    "    \n",
    "    Bluephone_distance <- rest_bluephone |>\n",
    "        group_by(Formal_Name_and_Room, Latitude, Longitude) |>\n",
    "        summarize(distance = distGeo(first_bluephone_lon_lat, c(Longitude, Latitude))) |>\n",
    "        arrange(distance) |>\n",
    "        head(1) |>\n",
    "        mutate(Bluephone_origin = pull(first_bluephone, Formal_Name_and_Room), \n",
    "               origin_Lat = pull(first_bluephone, Latitude), \n",
    "               origin_Lon = pull(first_bluephone, Longitude)) |>\n",
    "        select(Bluephone_origin, origin_Lat, origin_Lon, Formal_Name_and_Room, Latitude, Longitude, distance)\n",
    "    \n",
    "    colnames(Bluephone_distance) <- c(\"Bluephone_origin\", \"origin_Lat\", \"origin_Lon\", \n",
    "                                      \"closest_Bluephone\", \"closest_lat\", \"closest_lon\", \"distance\")\n",
    "    \n",
    "    bluephone_closest_distance <- bind_rows(bluephone_closest_distance, Bluephone_distance)\n",
    "}\n",
    "\n",
    "head(bluephone_closest_distance)"
   ]
  },
  {
   "cell_type": "code",
   "execution_count": 16,
   "id": "c5226aec-78a9-4d4f-9951-3493a75ca237",
   "metadata": {},
   "outputs": [],
   "source": [
    "write_csv(bluephone_closest_distance, file = \"data/Each Bluephone Distance with Closet.csv\")"
   ]
  },
  {
   "cell_type": "code",
   "execution_count": 17,
   "id": "226fa92d-6cb2-47c3-9f48-795e911d873a",
   "metadata": {},
   "outputs": [
    {
     "data": {
      "text/html": [
       "<table class=\"dataframe\">\n",
       "<caption>A grouped_df: 6 × 7</caption>\n",
       "<thead>\n",
       "\t<tr><th scope=col>Bluephone_No</th><th scope=col>origin_Lat</th><th scope=col>origin_Lon</th><th scope=col>closest_Bluephone</th><th scope=col>closest_lat</th><th scope=col>closest_lon</th><th scope=col>distance</th></tr>\n",
       "\t<tr><th scope=col>&lt;int&gt;</th><th scope=col>&lt;dbl&gt;</th><th scope=col>&lt;dbl&gt;</th><th scope=col>&lt;chr&gt;</th><th scope=col>&lt;dbl&gt;</th><th scope=col>&lt;dbl&gt;</th><th scope=col>&lt;dbl&gt;</th></tr>\n",
       "</thead>\n",
       "<tbody>\n",
       "\t<tr><td>1</td><td>49.26973</td><td>-123.2572</td><td>Blue Phone 62 Rose Garden Parkade Elevator Level 5                  </td><td>49.26945</td><td>-123.2566</td><td> 55.42414</td></tr>\n",
       "\t<tr><td>3</td><td>49.26894</td><td>-123.2566</td><td>Blue Phone 62 Rose Garden Parkade Elevator Level 5                  </td><td>49.26945</td><td>-123.2566</td><td> 56.72429</td></tr>\n",
       "\t<tr><td>4</td><td>49.26777</td><td>-123.2550</td><td><span style=white-space:pre-wrap>Blue Phone 03 Flagpole Plaza @ Main Mall &amp; Crescent Road            </span></td><td>49.26894</td><td>-123.2566</td><td>171.26136</td></tr>\n",
       "\t<tr><td>5</td><td>49.26497</td><td>-123.2575</td><td>Blue Phone 48 Fraser River Parkade South West Level 1               </td><td>49.26568</td><td>-123.2583</td><td> 94.76914</td></tr>\n",
       "\t<tr><td>6</td><td>49.26534</td><td>-123.2562</td><td><span style=white-space:pre-wrap>Blue Phone 05 Ponderosa F @ Lower Mall &amp; Pedestrian Path            </span></td><td>49.26497</td><td>-123.2575</td><td>103.17813</td></tr>\n",
       "\t<tr><td>7</td><td>49.26697</td><td>-123.2518</td><td>Blue Phone 41 Thunderbird Park pedestrian pathway near Soccer Centre</td><td>49.26753</td><td>-123.2527</td><td> 87.78280</td></tr>\n",
       "</tbody>\n",
       "</table>\n"
      ],
      "text/latex": [
       "A grouped\\_df: 6 × 7\n",
       "\\begin{tabular}{lllllll}\n",
       " Bluephone\\_No & origin\\_Lat & origin\\_Lon & closest\\_Bluephone & closest\\_lat & closest\\_lon & distance\\\\\n",
       " <int> & <dbl> & <dbl> & <chr> & <dbl> & <dbl> & <dbl>\\\\\n",
       "\\hline\n",
       "\t 1 & 49.26973 & -123.2572 & Blue Phone 62 Rose Garden Parkade Elevator Level 5                   & 49.26945 & -123.2566 &  55.42414\\\\\n",
       "\t 3 & 49.26894 & -123.2566 & Blue Phone 62 Rose Garden Parkade Elevator Level 5                   & 49.26945 & -123.2566 &  56.72429\\\\\n",
       "\t 4 & 49.26777 & -123.2550 & Blue Phone 03 Flagpole Plaza @ Main Mall \\& Crescent Road             & 49.26894 & -123.2566 & 171.26136\\\\\n",
       "\t 5 & 49.26497 & -123.2575 & Blue Phone 48 Fraser River Parkade South West Level 1                & 49.26568 & -123.2583 &  94.76914\\\\\n",
       "\t 6 & 49.26534 & -123.2562 & Blue Phone 05 Ponderosa F @ Lower Mall \\& Pedestrian Path             & 49.26497 & -123.2575 & 103.17813\\\\\n",
       "\t 7 & 49.26697 & -123.2518 & Blue Phone 41 Thunderbird Park pedestrian pathway near Soccer Centre & 49.26753 & -123.2527 &  87.78280\\\\\n",
       "\\end{tabular}\n"
      ],
      "text/markdown": [
       "\n",
       "A grouped_df: 6 × 7\n",
       "\n",
       "| Bluephone_No &lt;int&gt; | origin_Lat &lt;dbl&gt; | origin_Lon &lt;dbl&gt; | closest_Bluephone &lt;chr&gt; | closest_lat &lt;dbl&gt; | closest_lon &lt;dbl&gt; | distance &lt;dbl&gt; |\n",
       "|---|---|---|---|---|---|---|\n",
       "| 1 | 49.26973 | -123.2572 | Blue Phone 62 Rose Garden Parkade Elevator Level 5                   | 49.26945 | -123.2566 |  55.42414 |\n",
       "| 3 | 49.26894 | -123.2566 | Blue Phone 62 Rose Garden Parkade Elevator Level 5                   | 49.26945 | -123.2566 |  56.72429 |\n",
       "| 4 | 49.26777 | -123.2550 | Blue Phone 03 Flagpole Plaza @ Main Mall &amp; Crescent Road             | 49.26894 | -123.2566 | 171.26136 |\n",
       "| 5 | 49.26497 | -123.2575 | Blue Phone 48 Fraser River Parkade South West Level 1                | 49.26568 | -123.2583 |  94.76914 |\n",
       "| 6 | 49.26534 | -123.2562 | Blue Phone 05 Ponderosa F @ Lower Mall &amp; Pedestrian Path             | 49.26497 | -123.2575 | 103.17813 |\n",
       "| 7 | 49.26697 | -123.2518 | Blue Phone 41 Thunderbird Park pedestrian pathway near Soccer Centre | 49.26753 | -123.2527 |  87.78280 |\n",
       "\n"
      ],
      "text/plain": [
       "  Bluephone_No origin_Lat origin_Lon\n",
       "1 1            49.26973   -123.2572 \n",
       "2 3            49.26894   -123.2566 \n",
       "3 4            49.26777   -123.2550 \n",
       "4 5            49.26497   -123.2575 \n",
       "5 6            49.26534   -123.2562 \n",
       "6 7            49.26697   -123.2518 \n",
       "  closest_Bluephone                                                   \n",
       "1 Blue Phone 62 Rose Garden Parkade Elevator Level 5                  \n",
       "2 Blue Phone 62 Rose Garden Parkade Elevator Level 5                  \n",
       "3 Blue Phone 03 Flagpole Plaza @ Main Mall & Crescent Road            \n",
       "4 Blue Phone 48 Fraser River Parkade South West Level 1               \n",
       "5 Blue Phone 05 Ponderosa F @ Lower Mall & Pedestrian Path            \n",
       "6 Blue Phone 41 Thunderbird Park pedestrian pathway near Soccer Centre\n",
       "  closest_lat closest_lon distance \n",
       "1 49.26945    -123.2566    55.42414\n",
       "2 49.26945    -123.2566    56.72429\n",
       "3 49.26894    -123.2566   171.26136\n",
       "4 49.26568    -123.2583    94.76914\n",
       "5 49.26497    -123.2575   103.17813\n",
       "6 49.26753    -123.2527    87.78280"
      ]
     },
     "metadata": {},
     "output_type": "display_data"
    }
   ],
   "source": [
    "#rename from the formal name to index\n",
    "bluephone_closest_distance_renamed <- bluephone_closest_distance |>\n",
    "    mutate(Bluephone_No = substr(Bluephone_origin, 11, 13)) |>\n",
    "    mutate(across(Bluephone_No, as.integer)) |>\n",
    "    select(Bluephone_No, origin_Lat, origin_Lon, closest_Bluephone, closest_lat, closest_lon, distance)\n",
    "\n",
    "head(bluephone_closest_distance_renamed)"
   ]
  },
  {
   "cell_type": "code",
   "execution_count": 18,
   "id": "6ac0f445-3d73-48fe-b8ad-bceffe35747d",
   "metadata": {},
   "outputs": [
    {
     "data": {
      "text/html": [
       "<table class=\"dataframe\">\n",
       "<caption>A grouped_df: 15 × 7</caption>\n",
       "<thead>\n",
       "\t<tr><th scope=col>Bluephone_No</th><th scope=col>origin_Lat</th><th scope=col>origin_Lon</th><th scope=col>closest_Bluephone</th><th scope=col>closest_lat</th><th scope=col>closest_lon</th><th scope=col>distance</th></tr>\n",
       "\t<tr><th scope=col>&lt;int&gt;</th><th scope=col>&lt;dbl&gt;</th><th scope=col>&lt;dbl&gt;</th><th scope=col>&lt;chr&gt;</th><th scope=col>&lt;dbl&gt;</th><th scope=col>&lt;dbl&gt;</th><th scope=col>&lt;dbl&gt;</th></tr>\n",
       "</thead>\n",
       "<tbody>\n",
       "\t<tr><td>17</td><td>49.25758</td><td>-123.2467</td><td><span style=white-space:pre-wrap>Blue Phone 16 Old Barn Community Centre @ Main Mall &amp; Thunderbird Blvd  </span></td><td>49.25932</td><td>-123.2481</td><td>220.0795</td></tr>\n",
       "\t<tr><td>30</td><td>49.25846</td><td>-123.2507</td><td><span style=white-space:pre-wrap>Blue Phone 16 Old Barn Community Centre @ Main Mall &amp; Thunderbird Blvd  </span></td><td>49.25932</td><td>-123.2481</td><td>206.8730</td></tr>\n",
       "\t<tr><td>77</td><td>49.26246</td><td>-123.2388</td><td><span style=white-space:pre-wrap>Blue Phone 78 Osoyoos Crescent &amp; Oyama Court                            </span></td><td>49.26072</td><td>-123.2382</td><td>198.3806</td></tr>\n",
       "\t<tr><td>31</td><td>49.26008</td><td>-123.2456</td><td><span style=white-space:pre-wrap>Blue Phone 33 Pulp &amp; Paper @ East Mall &amp; Argonomy Road                  </span></td><td>49.26143</td><td>-123.2471</td><td>185.6423</td></tr>\n",
       "\t<tr><td> 4</td><td>49.26777</td><td>-123.2550</td><td><span style=white-space:pre-wrap>Blue Phone 03 Flagpole Plaza @ Main Mall &amp; Crescent Road                </span></td><td>49.26894</td><td>-123.2566</td><td>171.2614</td></tr>\n",
       "\t<tr><td>16</td><td>49.25932</td><td>-123.2481</td><td><span style=white-space:pre-wrap>Blue Phone 14 MacMillan @ Main Mall &amp; Agronomy Rd                       </span></td><td>49.26053</td><td>-123.2495</td><td>168.3631</td></tr>\n",
       "\t<tr><td>21</td><td>49.26616</td><td>-123.2537</td><td><span style=white-space:pre-wrap>Blue Phone 07 Hennings @ East Mall &amp; Agricultural Road                  </span></td><td>49.26697</td><td>-123.2518</td><td>164.4280</td></tr>\n",
       "\t<tr><td>22</td><td>49.26948</td><td>-123.2544</td><td>Blue Phone 62 Rose Garden Parkade Elevator Level 5                      </td><td>49.26945</td><td>-123.2566</td><td>156.5045</td></tr>\n",
       "\t<tr><td>10</td><td>49.26471</td><td>-123.2523</td><td><span style=white-space:pre-wrap>Blue Phone 20 Chemistry Physics @ East Mall &amp; University Blvd.          </span></td><td>49.26575</td><td>-123.2508</td><td>155.5971</td></tr>\n",
       "\t<tr><td>80</td><td>49.25967</td><td>-123.2352</td><td>Blue Phone 79 Point Grey Apartments                                     </td><td>49.25961</td><td>-123.2373</td><td>149.3701</td></tr>\n",
       "\t<tr><td> 2</td><td>49.26789</td><td>-123.2583</td><td>Blue Phone 23 Fraser River Parkade @ Memorial Rd at Fraser River Parkade</td><td>49.26658</td><td>-123.2578</td><td>149.3273</td></tr>\n",
       "\t<tr><td>20</td><td>49.26575</td><td>-123.2508</td><td>Blue Phone 81 University Blvd Lot Stairs 1                              </td><td>49.26659</td><td>-123.2493</td><td>148.7244</td></tr>\n",
       "\t<tr><td>26</td><td>49.26421</td><td>-123.2549</td><td><span style=white-space:pre-wrap>Blue Phone 25 St. John's @ Lower Mall &amp; University Blvd.                </span></td><td>49.26331</td><td>-123.2563</td><td>143.3557</td></tr>\n",
       "\t<tr><td>78</td><td>49.26072</td><td>-123.2382</td><td>Blue Phone 79 Point Grey Apartments                                     </td><td>49.25961</td><td>-123.2373</td><td>140.7909</td></tr>\n",
       "\t<tr><td>79</td><td>49.25961</td><td>-123.2373</td><td><span style=white-space:pre-wrap>Blue Phone 78 Osoyoos Crescent &amp; Oyama Court                            </span></td><td>49.26072</td><td>-123.2382</td><td>140.7909</td></tr>\n",
       "</tbody>\n",
       "</table>\n"
      ],
      "text/latex": [
       "A grouped\\_df: 15 × 7\n",
       "\\begin{tabular}{lllllll}\n",
       " Bluephone\\_No & origin\\_Lat & origin\\_Lon & closest\\_Bluephone & closest\\_lat & closest\\_lon & distance\\\\\n",
       " <int> & <dbl> & <dbl> & <chr> & <dbl> & <dbl> & <dbl>\\\\\n",
       "\\hline\n",
       "\t 17 & 49.25758 & -123.2467 & Blue Phone 16 Old Barn Community Centre @ Main Mall \\& Thunderbird Blvd   & 49.25932 & -123.2481 & 220.0795\\\\\n",
       "\t 30 & 49.25846 & -123.2507 & Blue Phone 16 Old Barn Community Centre @ Main Mall \\& Thunderbird Blvd   & 49.25932 & -123.2481 & 206.8730\\\\\n",
       "\t 77 & 49.26246 & -123.2388 & Blue Phone 78 Osoyoos Crescent \\& Oyama Court                             & 49.26072 & -123.2382 & 198.3806\\\\\n",
       "\t 31 & 49.26008 & -123.2456 & Blue Phone 33 Pulp \\& Paper @ East Mall \\& Argonomy Road                   & 49.26143 & -123.2471 & 185.6423\\\\\n",
       "\t  4 & 49.26777 & -123.2550 & Blue Phone 03 Flagpole Plaza @ Main Mall \\& Crescent Road                 & 49.26894 & -123.2566 & 171.2614\\\\\n",
       "\t 16 & 49.25932 & -123.2481 & Blue Phone 14 MacMillan @ Main Mall \\& Agronomy Rd                        & 49.26053 & -123.2495 & 168.3631\\\\\n",
       "\t 21 & 49.26616 & -123.2537 & Blue Phone 07 Hennings @ East Mall \\& Agricultural Road                   & 49.26697 & -123.2518 & 164.4280\\\\\n",
       "\t 22 & 49.26948 & -123.2544 & Blue Phone 62 Rose Garden Parkade Elevator Level 5                       & 49.26945 & -123.2566 & 156.5045\\\\\n",
       "\t 10 & 49.26471 & -123.2523 & Blue Phone 20 Chemistry Physics @ East Mall \\& University Blvd.           & 49.26575 & -123.2508 & 155.5971\\\\\n",
       "\t 80 & 49.25967 & -123.2352 & Blue Phone 79 Point Grey Apartments                                      & 49.25961 & -123.2373 & 149.3701\\\\\n",
       "\t  2 & 49.26789 & -123.2583 & Blue Phone 23 Fraser River Parkade @ Memorial Rd at Fraser River Parkade & 49.26658 & -123.2578 & 149.3273\\\\\n",
       "\t 20 & 49.26575 & -123.2508 & Blue Phone 81 University Blvd Lot Stairs 1                               & 49.26659 & -123.2493 & 148.7244\\\\\n",
       "\t 26 & 49.26421 & -123.2549 & Blue Phone 25 St. John's @ Lower Mall \\& University Blvd.                 & 49.26331 & -123.2563 & 143.3557\\\\\n",
       "\t 78 & 49.26072 & -123.2382 & Blue Phone 79 Point Grey Apartments                                      & 49.25961 & -123.2373 & 140.7909\\\\\n",
       "\t 79 & 49.25961 & -123.2373 & Blue Phone 78 Osoyoos Crescent \\& Oyama Court                             & 49.26072 & -123.2382 & 140.7909\\\\\n",
       "\\end{tabular}\n"
      ],
      "text/markdown": [
       "\n",
       "A grouped_df: 15 × 7\n",
       "\n",
       "| Bluephone_No &lt;int&gt; | origin_Lat &lt;dbl&gt; | origin_Lon &lt;dbl&gt; | closest_Bluephone &lt;chr&gt; | closest_lat &lt;dbl&gt; | closest_lon &lt;dbl&gt; | distance &lt;dbl&gt; |\n",
       "|---|---|---|---|---|---|---|\n",
       "| 17 | 49.25758 | -123.2467 | Blue Phone 16 Old Barn Community Centre @ Main Mall &amp; Thunderbird Blvd   | 49.25932 | -123.2481 | 220.0795 |\n",
       "| 30 | 49.25846 | -123.2507 | Blue Phone 16 Old Barn Community Centre @ Main Mall &amp; Thunderbird Blvd   | 49.25932 | -123.2481 | 206.8730 |\n",
       "| 77 | 49.26246 | -123.2388 | Blue Phone 78 Osoyoos Crescent &amp; Oyama Court                             | 49.26072 | -123.2382 | 198.3806 |\n",
       "| 31 | 49.26008 | -123.2456 | Blue Phone 33 Pulp &amp; Paper @ East Mall &amp; Argonomy Road                   | 49.26143 | -123.2471 | 185.6423 |\n",
       "|  4 | 49.26777 | -123.2550 | Blue Phone 03 Flagpole Plaza @ Main Mall &amp; Crescent Road                 | 49.26894 | -123.2566 | 171.2614 |\n",
       "| 16 | 49.25932 | -123.2481 | Blue Phone 14 MacMillan @ Main Mall &amp; Agronomy Rd                        | 49.26053 | -123.2495 | 168.3631 |\n",
       "| 21 | 49.26616 | -123.2537 | Blue Phone 07 Hennings @ East Mall &amp; Agricultural Road                   | 49.26697 | -123.2518 | 164.4280 |\n",
       "| 22 | 49.26948 | -123.2544 | Blue Phone 62 Rose Garden Parkade Elevator Level 5                       | 49.26945 | -123.2566 | 156.5045 |\n",
       "| 10 | 49.26471 | -123.2523 | Blue Phone 20 Chemistry Physics @ East Mall &amp; University Blvd.           | 49.26575 | -123.2508 | 155.5971 |\n",
       "| 80 | 49.25967 | -123.2352 | Blue Phone 79 Point Grey Apartments                                      | 49.25961 | -123.2373 | 149.3701 |\n",
       "|  2 | 49.26789 | -123.2583 | Blue Phone 23 Fraser River Parkade @ Memorial Rd at Fraser River Parkade | 49.26658 | -123.2578 | 149.3273 |\n",
       "| 20 | 49.26575 | -123.2508 | Blue Phone 81 University Blvd Lot Stairs 1                               | 49.26659 | -123.2493 | 148.7244 |\n",
       "| 26 | 49.26421 | -123.2549 | Blue Phone 25 St. John's @ Lower Mall &amp; University Blvd.                 | 49.26331 | -123.2563 | 143.3557 |\n",
       "| 78 | 49.26072 | -123.2382 | Blue Phone 79 Point Grey Apartments                                      | 49.25961 | -123.2373 | 140.7909 |\n",
       "| 79 | 49.25961 | -123.2373 | Blue Phone 78 Osoyoos Crescent &amp; Oyama Court                             | 49.26072 | -123.2382 | 140.7909 |\n",
       "\n"
      ],
      "text/plain": [
       "   Bluephone_No origin_Lat origin_Lon\n",
       "1  17           49.25758   -123.2467 \n",
       "2  30           49.25846   -123.2507 \n",
       "3  77           49.26246   -123.2388 \n",
       "4  31           49.26008   -123.2456 \n",
       "5   4           49.26777   -123.2550 \n",
       "6  16           49.25932   -123.2481 \n",
       "7  21           49.26616   -123.2537 \n",
       "8  22           49.26948   -123.2544 \n",
       "9  10           49.26471   -123.2523 \n",
       "10 80           49.25967   -123.2352 \n",
       "11  2           49.26789   -123.2583 \n",
       "12 20           49.26575   -123.2508 \n",
       "13 26           49.26421   -123.2549 \n",
       "14 78           49.26072   -123.2382 \n",
       "15 79           49.25961   -123.2373 \n",
       "   closest_Bluephone                                                       \n",
       "1  Blue Phone 16 Old Barn Community Centre @ Main Mall & Thunderbird Blvd  \n",
       "2  Blue Phone 16 Old Barn Community Centre @ Main Mall & Thunderbird Blvd  \n",
       "3  Blue Phone 78 Osoyoos Crescent & Oyama Court                            \n",
       "4  Blue Phone 33 Pulp & Paper @ East Mall & Argonomy Road                  \n",
       "5  Blue Phone 03 Flagpole Plaza @ Main Mall & Crescent Road                \n",
       "6  Blue Phone 14 MacMillan @ Main Mall & Agronomy Rd                       \n",
       "7  Blue Phone 07 Hennings @ East Mall & Agricultural Road                  \n",
       "8  Blue Phone 62 Rose Garden Parkade Elevator Level 5                      \n",
       "9  Blue Phone 20 Chemistry Physics @ East Mall & University Blvd.          \n",
       "10 Blue Phone 79 Point Grey Apartments                                     \n",
       "11 Blue Phone 23 Fraser River Parkade @ Memorial Rd at Fraser River Parkade\n",
       "12 Blue Phone 81 University Blvd Lot Stairs 1                              \n",
       "13 Blue Phone 25 St. John's @ Lower Mall & University Blvd.                \n",
       "14 Blue Phone 79 Point Grey Apartments                                     \n",
       "15 Blue Phone 78 Osoyoos Crescent & Oyama Court                            \n",
       "   closest_lat closest_lon distance\n",
       "1  49.25932    -123.2481   220.0795\n",
       "2  49.25932    -123.2481   206.8730\n",
       "3  49.26072    -123.2382   198.3806\n",
       "4  49.26143    -123.2471   185.6423\n",
       "5  49.26894    -123.2566   171.2614\n",
       "6  49.26053    -123.2495   168.3631\n",
       "7  49.26697    -123.2518   164.4280\n",
       "8  49.26945    -123.2566   156.5045\n",
       "9  49.26575    -123.2508   155.5971\n",
       "10 49.25961    -123.2373   149.3701\n",
       "11 49.26658    -123.2578   149.3273\n",
       "12 49.26659    -123.2493   148.7244\n",
       "13 49.26331    -123.2563   143.3557\n",
       "14 49.25961    -123.2373   140.7909\n",
       "15 49.26072    -123.2382   140.7909"
      ]
     },
     "metadata": {},
     "output_type": "display_data"
    }
   ],
   "source": [
    "arranged_bluephone_closest_distance <- bluephone_closest_distance_renamed |>\n",
    "    arrange(desc(distance))\n",
    "head(arranged_bluephone_closest_distance, n = 15)"
   ]
  },
  {
   "cell_type": "code",
   "execution_count": 19,
   "id": "75e983d5-0870-4030-9da6-95ed0e566606",
   "metadata": {},
   "outputs": [
    {
     "name": "stdout",
     "output_type": "stream",
     "text": [
      "The distance between each bluephone and its closet bluephone is 88.23234 m."
     ]
    }
   ],
   "source": [
    "# calculate the mean of the distance\n",
    "distance_mean <- bluephone_closest_distance_renamed |>\n",
    "    pull(distance) |>\n",
    "    mean()\n",
    "\n",
    "cat(\"The distance between each bluephone and its closet bluephone is\", distance_mean, \"m.\")"
   ]
  },
  {
   "cell_type": "code",
   "execution_count": 20,
   "id": "aec9c89c-3e3f-45a2-95b0-2e0046925114",
   "metadata": {},
   "outputs": [],
   "source": [
    "# 3d bar pot in the exact coordinates locations\n",
    "arranged_bluephone_closest_distance_9 <- head(arranged_bluephone_closest_distance, n = 9)\n",
    "\n",
    "Barplot_3d <- arranged_bluephone_closest_distance_9 |>\n",
    "    ggplot(aes(origin_Lat, origin_Lon, fill = distance)) +\n",
    "    geom_tile() +\n",
    "    scale_fill_fermenter(type = \"div\", palette = \"RdYlBu\") +\n",
    "    xlab(\"Latitude\") + \n",
    "    ylab(\"Longitude\") +\n",
    "    labs(fill = \"Distance (m)\")\n",
    "\n",
    "#suppressWarnings(plot_gg(Barplot_3d)) "
   ]
  },
  {
   "cell_type": "code",
   "execution_count": 21,
   "id": "cc0dbadd-25d6-40d8-a277-b9146a08f642",
   "metadata": {},
   "outputs": [],
   "source": [
    "#suppressWarnings(render_movie(filename = \"plot.gif\")) "
   ]
  },
  {
   "cell_type": "markdown",
   "id": "93437d2b-28cf-43c9-81d9-e83aeaebe797",
   "metadata": {},
   "source": [
    "<!-- mapshot(base_map, file = \"Map Image Save/base map.png\") -->\n",
    "<img src=\"3D barplot.gif\" width=\"600\" height=\"300\">"
   ]
  },
  {
   "cell_type": "code",
   "execution_count": 22,
   "id": "8bd0231f-1c21-4c46-8592-52acae1ed9bf",
   "metadata": {},
   "outputs": [
    {
     "data": {
      "image/png": "[encoded data removed]",
      "text/plain": [
       "plot without title"
      ]
     },
     "metadata": {
      "image/png": {
       "height": 420,
       "width": 420
      }
     },
     "output_type": "display_data"
    }
   ],
   "source": [
    "#3d bar plot according to the relative location base on coordinates\n",
    "df.distance <- data.frame(matrix(NA, nrow=9, ncol=4))\n",
    "names(df.distance) <- c(\"x\", \"y\", \"z\", \"z.rank\")\n",
    "\n",
    "df.distance$x <- factor(rep(c(\"X1\", \"X2\", \"X3\"), times=3), levels=c(\"X1\", \"X2\", \"X3\"))\n",
    "df.distance$y <- factor(rep( paste0(\"Y\", 1:3), each=3), levels=c(\"Y1\", \"Y2\", \"Y3\"))\n",
    "df.distance$z <- pull(arrange(arranged_bluephone_closest_distance_9, Bluephone_No), distance)\n",
    "\n",
    "df.distance$z.rank <- as.numeric(rank(df.distance$z))\n",
    "\n",
    "p1. <- cloud(z~x+y, data=df.distance, panel.3d.cloud=panel.3dbars, \n",
    "            ylab=\"Y\", xlab=\"X\", zlab=\"Z\",\n",
    "            xbase=0.2, ybase=0.2, scales=list(arrows=FALSE, col=\"black\", distance=1),\n",
    "            par.settings = list(axis.line = list(col = \"transparent\")),\n",
    "            #screen = list(z = 35, x = -35, y=0),\n",
    "            alpha.facet = 1.00, border = \"transparent\",\n",
    "            zoom=1.00);\n",
    "\n",
    "print(p1.)"
   ]
  },
  {
   "cell_type": "code",
   "execution_count": 28,
   "id": "c4298a70-3b02-4ef8-b278-0a34a108e99b",
   "metadata": {},
   "outputs": [
    {
     "data": {
      "text/html": [
       "156.504498261531"
      ],
      "text/latex": [
       "156.504498261531"
      ],
      "text/markdown": [
       "156.504498261531"
      ],
      "text/plain": [
       "[1] 156.5045"
      ]
     },
     "metadata": {},
     "output_type": "display_data"
    },
    {
     "data": {
      "image/png": "[encoded data removed]",
      "text/plain": [
       "plot without title"
      ]
     },
     "metadata": {
      "image/png": {
       "height": 480,
       "width": 540
      }
     },
     "output_type": "display_data"
    }
   ],
   "source": [
    "#plot the distance between the current bluephone and its closet one in 2D\n",
    "options(repr.plot.height = 8, repr.plot.width = 9)\n",
    "median <- head(arranged_bluephone_closest_distance, n =15) |>\n",
    "    ungroup(closest_Bluephone, closest_lat) |>\n",
    "    select(distance) |>\n",
    "    pull() |>\n",
    "    median()\n",
    "\n",
    "median\n",
    "\n",
    "bluephone_closest_distance_plot <- head(arranged_bluephone_closest_distance, n = 15) |>\n",
    "    mutate(median_distance = distance - median) |> \n",
    "    # ggplot(aes(x = c(1:nrow(arranged_bluephone_closest_distance)), y = median_distance, fill = as_factor(Bluephone_No))) +\n",
    "    ggplot(aes(x = c(1:nrow(head(arranged_bluephone_closest_distance, n = 15))), \n",
    "               y = median_distance, \n",
    "               fill = as_factor(Bluephone_No))) +\n",
    "    geom_bar(stat = \"identity\", position = \"dodge\") +\n",
    "    labs(x = \"Bluephone Number\",\n",
    "         y = \"Distance with the nearest neighbor bluephone (m)\", \n",
    "         fill = \"Bluephone Number\") +\n",
    "    ggtitle(\"The Median distance between each bluephone and its closet one\") +\n",
    "    theme(text = element_text(size = 18))\n",
    "\n",
    "bluephone_closest_distance_plot"
   ]
  },
  {
   "cell_type": "code",
   "execution_count": 24,
   "id": "65ed6b59-5594-4d74-a2b6-c958aa62935f",
   "metadata": {},
   "outputs": [
    {
     "data": {
      "text/html": [
       "<table class=\"dataframe\">\n",
       "<caption>A grouped_df: 1 × 7</caption>\n",
       "<thead>\n",
       "\t<tr><th scope=col>Bluephone_origin</th><th scope=col>origin_Lat</th><th scope=col>origin_Lon</th><th scope=col>closest_Bluephone</th><th scope=col>closest_lat</th><th scope=col>closest_lon</th><th scope=col>distance</th></tr>\n",
       "\t<tr><th scope=col>&lt;chr&gt;</th><th scope=col>&lt;dbl&gt;</th><th scope=col>&lt;dbl&gt;</th><th scope=col>&lt;chr&gt;</th><th scope=col>&lt;dbl&gt;</th><th scope=col>&lt;dbl&gt;</th><th scope=col>&lt;dbl&gt;</th></tr>\n",
       "</thead>\n",
       "<tbody>\n",
       "\t<tr><td>Blue Phone 17 Rhododendron Wood @ Main Mall &amp; Eagles Drive</td><td>49.25758</td><td>-123.2467</td><td>Blue Phone 16 Old Barn Community Centre @ Main Mall &amp; Thunderbird Blvd</td><td>49.25932</td><td>-123.2481</td><td>220.0795</td></tr>\n",
       "</tbody>\n",
       "</table>\n"
      ],
      "text/latex": [
       "A grouped\\_df: 1 × 7\n",
       "\\begin{tabular}{lllllll}\n",
       " Bluephone\\_origin & origin\\_Lat & origin\\_Lon & closest\\_Bluephone & closest\\_lat & closest\\_lon & distance\\\\\n",
       " <chr> & <dbl> & <dbl> & <chr> & <dbl> & <dbl> & <dbl>\\\\\n",
       "\\hline\n",
       "\t Blue Phone 17 Rhododendron Wood @ Main Mall \\& Eagles Drive & 49.25758 & -123.2467 & Blue Phone 16 Old Barn Community Centre @ Main Mall \\& Thunderbird Blvd & 49.25932 & -123.2481 & 220.0795\\\\\n",
       "\\end{tabular}\n"
      ],
      "text/markdown": [
       "\n",
       "A grouped_df: 1 × 7\n",
       "\n",
       "| Bluephone_origin &lt;chr&gt; | origin_Lat &lt;dbl&gt; | origin_Lon &lt;dbl&gt; | closest_Bluephone &lt;chr&gt; | closest_lat &lt;dbl&gt; | closest_lon &lt;dbl&gt; | distance &lt;dbl&gt; |\n",
       "|---|---|---|---|---|---|---|\n",
       "| Blue Phone 17 Rhododendron Wood @ Main Mall &amp; Eagles Drive | 49.25758 | -123.2467 | Blue Phone 16 Old Barn Community Centre @ Main Mall &amp; Thunderbird Blvd | 49.25932 | -123.2481 | 220.0795 |\n",
       "\n"
      ],
      "text/plain": [
       "  Bluephone_origin                                           origin_Lat\n",
       "1 Blue Phone 17 Rhododendron Wood @ Main Mall & Eagles Drive 49.25758  \n",
       "  origin_Lon\n",
       "1 -123.2467 \n",
       "  closest_Bluephone                                                     \n",
       "1 Blue Phone 16 Old Barn Community Centre @ Main Mall & Thunderbird Blvd\n",
       "  closest_lat closest_lon distance\n",
       "1 49.25932    -123.2481   220.0795"
      ]
     },
     "metadata": {},
     "output_type": "display_data"
    }
   ],
   "source": [
    "#find the location of the bluephone such that has the maximum distance with another one\n",
    "bluephone_distance_max <- bluephone_closest_distance |>\n",
    "    arrange(desc(distance)) |>\n",
    "    head(1)\n",
    "\n",
    "bluephone_distance_max"
   ]
  },
  {
   "cell_type": "code",
   "execution_count": 29,
   "id": "cc87a609-007b-40c1-bd3b-9ab3d1b875f2",
   "metadata": {},
   "outputs": [
    {
     "data": {
      "text/html": [
       "<table class=\"dataframe\">\n",
       "<caption>A tibble: 7 × 4</caption>\n",
       "<thead>\n",
       "\t<tr><th scope=col>Formal_Name_and_Room</th><th scope=col>Street_Address</th><th scope=col>Latitude</th><th scope=col>Longitude</th></tr>\n",
       "\t<tr><th scope=col>&lt;chr&gt;</th><th scope=col>&lt;chr&gt;</th><th scope=col>&lt;dbl&gt;</th><th scope=col>&lt;dbl&gt;</th></tr>\n",
       "</thead>\n",
       "<tbody>\n",
       "\t<tr><td><span style=white-space:pre-wrap>Blue Phone 10 Biological Sciences @ Main Mall &amp; University Blvd          </span></td><td>6270 UNIVERSITY BLVD Biological Sciences Bldg </td><td>49.26471</td><td>-123.2523</td></tr>\n",
       "\t<tr><td><span style=white-space:pre-wrap>Blue Phone 11 Earth Sciences Building @ Main Mall &amp; Stores Road          </span></td><td><span style=white-space:pre-wrap>2207 MAIN MALL                                </span></td><td>49.26253</td><td>-123.2511</td></tr>\n",
       "\t<tr><td><span style=white-space:pre-wrap>Blue Phone 12 Earth &amp; Ocean Sciences @ Stores Road at EOS                </span></td><td><span style=white-space:pre-wrap>6339 STORES RD                                </span></td><td>49.26195</td><td>-123.2524</td></tr>\n",
       "\t<tr><td><span style=white-space:pre-wrap>Blue Phone 26 Jack Bell @ West Mall &amp; University Blvd                    </span></td><td>2080 WEST MALL Jack BELL School of Social Work</td><td>49.26421</td><td>-123.2549</td></tr>\n",
       "\t<tr><td>Blue Phone 27 West Parkade @ Lower Mall &amp; Pedestrian Path at West Parkade</td><td><span style=white-space:pre-wrap>2140 LOWER MALL                               </span></td><td>49.26201</td><td>-123.2551</td></tr>\n",
       "\t<tr><td><span style=white-space:pre-wrap>Blue Phone 29 CIRS @ West Mall &amp; Stores Road                             </span></td><td><span style=white-space:pre-wrap>2260 WEST MALL &amp; STORES Rd                    </span></td><td>49.26166</td><td>-123.2533</td></tr>\n",
       "\t<tr><td>Blue Phone 76 West Parkade North Rooftop Level 11                        </td><td>2140 Lower Mall                               </td><td>49.26281</td><td>-123.2554</td></tr>\n",
       "</tbody>\n",
       "</table>\n"
      ],
      "text/latex": [
       "A tibble: 7 × 4\n",
       "\\begin{tabular}{llll}\n",
       " Formal\\_Name\\_and\\_Room & Street\\_Address & Latitude & Longitude\\\\\n",
       " <chr> & <chr> & <dbl> & <dbl>\\\\\n",
       "\\hline\n",
       "\t Blue Phone 10 Biological Sciences @ Main Mall \\& University Blvd           & 6270 UNIVERSITY BLVD Biological Sciences Bldg  & 49.26471 & -123.2523\\\\\n",
       "\t Blue Phone 11 Earth Sciences Building @ Main Mall \\& Stores Road           & 2207 MAIN MALL                                 & 49.26253 & -123.2511\\\\\n",
       "\t Blue Phone 12 Earth \\& Ocean Sciences @ Stores Road at EOS                 & 6339 STORES RD                                 & 49.26195 & -123.2524\\\\\n",
       "\t Blue Phone 26 Jack Bell @ West Mall \\& University Blvd                     & 2080 WEST MALL Jack BELL School of Social Work & 49.26421 & -123.2549\\\\\n",
       "\t Blue Phone 27 West Parkade @ Lower Mall \\& Pedestrian Path at West Parkade & 2140 LOWER MALL                                & 49.26201 & -123.2551\\\\\n",
       "\t Blue Phone 29 CIRS @ West Mall \\& Stores Road                              & 2260 WEST MALL \\& STORES Rd                     & 49.26166 & -123.2533\\\\\n",
       "\t Blue Phone 76 West Parkade North Rooftop Level 11                         & 2140 Lower Mall                                & 49.26281 & -123.2554\\\\\n",
       "\\end{tabular}\n"
      ],
      "text/markdown": [
       "\n",
       "A tibble: 7 × 4\n",
       "\n",
       "| Formal_Name_and_Room &lt;chr&gt; | Street_Address &lt;chr&gt; | Latitude &lt;dbl&gt; | Longitude &lt;dbl&gt; |\n",
       "|---|---|---|---|\n",
       "| Blue Phone 10 Biological Sciences @ Main Mall &amp; University Blvd           | 6270 UNIVERSITY BLVD Biological Sciences Bldg  | 49.26471 | -123.2523 |\n",
       "| Blue Phone 11 Earth Sciences Building @ Main Mall &amp; Stores Road           | 2207 MAIN MALL                                 | 49.26253 | -123.2511 |\n",
       "| Blue Phone 12 Earth &amp; Ocean Sciences @ Stores Road at EOS                 | 6339 STORES RD                                 | 49.26195 | -123.2524 |\n",
       "| Blue Phone 26 Jack Bell @ West Mall &amp; University Blvd                     | 2080 WEST MALL Jack BELL School of Social Work | 49.26421 | -123.2549 |\n",
       "| Blue Phone 27 West Parkade @ Lower Mall &amp; Pedestrian Path at West Parkade | 2140 LOWER MALL                                | 49.26201 | -123.2551 |\n",
       "| Blue Phone 29 CIRS @ West Mall &amp; Stores Road                              | 2260 WEST MALL &amp; STORES Rd                     | 49.26166 | -123.2533 |\n",
       "| Blue Phone 76 West Parkade North Rooftop Level 11                         | 2140 Lower Mall                                | 49.26281 | -123.2554 |\n",
       "\n"
      ],
      "text/plain": [
       "  Formal_Name_and_Room                                                     \n",
       "1 Blue Phone 10 Biological Sciences @ Main Mall & University Blvd          \n",
       "2 Blue Phone 11 Earth Sciences Building @ Main Mall & Stores Road          \n",
       "3 Blue Phone 12 Earth & Ocean Sciences @ Stores Road at EOS                \n",
       "4 Blue Phone 26 Jack Bell @ West Mall & University Blvd                    \n",
       "5 Blue Phone 27 West Parkade @ Lower Mall & Pedestrian Path at West Parkade\n",
       "6 Blue Phone 29 CIRS @ West Mall & Stores Road                             \n",
       "7 Blue Phone 76 West Parkade North Rooftop Level 11                        \n",
       "  Street_Address                                 Latitude Longitude\n",
       "1 6270 UNIVERSITY BLVD Biological Sciences Bldg  49.26471 -123.2523\n",
       "2 2207 MAIN MALL                                 49.26253 -123.2511\n",
       "3 6339 STORES RD                                 49.26195 -123.2524\n",
       "4 2080 WEST MALL Jack BELL School of Social Work 49.26421 -123.2549\n",
       "5 2140 LOWER MALL                                49.26201 -123.2551\n",
       "6 2260 WEST MALL & STORES Rd                     49.26166 -123.2533\n",
       "7 2140 Lower Mall                                49.26281 -123.2554"
      ]
     },
     "metadata": {},
     "output_type": "display_data"
    }
   ],
   "source": [
    "bluephone_distance_max_location_without_extra <- Bluephone_location |>\n",
    "    filter(Formal_Name_and_Room %in% c(\"Blue Phone 26 Jack Bell @ West Mall & University Blvd\", \n",
    "                                       \"Blue Phone 10 Biological Sciences @ Main Mall & University Blvd\", \n",
    "                                       \"Blue Phone 76 West Parkade North Rooftop Level 11\",\n",
    "                                       \"Blue Phone 27 West Parkade @ Lower Mall & Pedestrian Path at West Parkade\",\n",
    "                                       \"Blue Phone 29 CIRS @ West Mall & Stores Road\", \n",
    "                                       \"Blue Phone 12 Earth & Ocean Sciences @ Stores Road at EOS\", \n",
    "                                       \"Blue Phone 11 Earth Sciences Building @ Main Mall & Stores Road\")) \n",
    "\n",
    "bluephone_distance_max_location_without_extra"
   ]
  },
  {
   "cell_type": "code",
   "execution_count": 30,
   "id": "ba850322-6081-4976-b71a-ec4e08fa220f",
   "metadata": {},
   "outputs": [
    {
     "data": {
      "text/html": [
       "<table class=\"dataframe\">\n",
       "<caption>A tibble: 8 × 4</caption>\n",
       "<thead>\n",
       "\t<tr><th scope=col>Formal_Name_and_Room</th><th scope=col>Street_Address</th><th scope=col>Latitude</th><th scope=col>Longitude</th></tr>\n",
       "\t<tr><th scope=col>&lt;chr&gt;</th><th scope=col>&lt;chr&gt;</th><th scope=col>&lt;dbl&gt;</th><th scope=col>&lt;dbl&gt;</th></tr>\n",
       "</thead>\n",
       "<tbody>\n",
       "\t<tr><td><span style=white-space:pre-wrap>Blue Phone 10 Biological Sciences @ Main Mall &amp; University Blvd          </span></td><td>6270 UNIVERSITY BLVD Biological Sciences Bldg </td><td>49.26471</td><td>-123.2523</td></tr>\n",
       "\t<tr><td><span style=white-space:pre-wrap>Blue Phone 11 Earth Sciences Building @ Main Mall &amp; Stores Road          </span></td><td><span style=white-space:pre-wrap>2207 MAIN MALL                                </span></td><td>49.26253</td><td>-123.2511</td></tr>\n",
       "\t<tr><td><span style=white-space:pre-wrap>Blue Phone 12 Earth &amp; Ocean Sciences @ Stores Road at EOS                </span></td><td><span style=white-space:pre-wrap>6339 STORES RD                                </span></td><td>49.26195</td><td>-123.2524</td></tr>\n",
       "\t<tr><td><span style=white-space:pre-wrap>Blue Phone 26 Jack Bell @ West Mall &amp; University Blvd                    </span></td><td>2080 WEST MALL Jack BELL School of Social Work</td><td>49.26421</td><td>-123.2549</td></tr>\n",
       "\t<tr><td>Blue Phone 27 West Parkade @ Lower Mall &amp; Pedestrian Path at West Parkade</td><td><span style=white-space:pre-wrap>2140 LOWER MALL                               </span></td><td>49.26201</td><td>-123.2551</td></tr>\n",
       "\t<tr><td><span style=white-space:pre-wrap>Blue Phone 29 CIRS @ West Mall &amp; Stores Road                             </span></td><td><span style=white-space:pre-wrap>2260 WEST MALL &amp; STORES Rd                    </span></td><td>49.26166</td><td>-123.2533</td></tr>\n",
       "\t<tr><td>Blue Phone 76 West Parkade North Rooftop Level 11                        </td><td>2140 Lower Mall                               </td><td>49.26281</td><td>-123.2554</td></tr>\n",
       "\t<tr><td>Extra Blue Phone                                                         </td><td>Behind the Earth Science Building             </td><td>49.26331</td><td>-123.2532</td></tr>\n",
       "</tbody>\n",
       "</table>\n"
      ],
      "text/latex": [
       "A tibble: 8 × 4\n",
       "\\begin{tabular}{llll}\n",
       " Formal\\_Name\\_and\\_Room & Street\\_Address & Latitude & Longitude\\\\\n",
       " <chr> & <chr> & <dbl> & <dbl>\\\\\n",
       "\\hline\n",
       "\t Blue Phone 10 Biological Sciences @ Main Mall \\& University Blvd           & 6270 UNIVERSITY BLVD Biological Sciences Bldg  & 49.26471 & -123.2523\\\\\n",
       "\t Blue Phone 11 Earth Sciences Building @ Main Mall \\& Stores Road           & 2207 MAIN MALL                                 & 49.26253 & -123.2511\\\\\n",
       "\t Blue Phone 12 Earth \\& Ocean Sciences @ Stores Road at EOS                 & 6339 STORES RD                                 & 49.26195 & -123.2524\\\\\n",
       "\t Blue Phone 26 Jack Bell @ West Mall \\& University Blvd                     & 2080 WEST MALL Jack BELL School of Social Work & 49.26421 & -123.2549\\\\\n",
       "\t Blue Phone 27 West Parkade @ Lower Mall \\& Pedestrian Path at West Parkade & 2140 LOWER MALL                                & 49.26201 & -123.2551\\\\\n",
       "\t Blue Phone 29 CIRS @ West Mall \\& Stores Road                              & 2260 WEST MALL \\& STORES Rd                     & 49.26166 & -123.2533\\\\\n",
       "\t Blue Phone 76 West Parkade North Rooftop Level 11                         & 2140 Lower Mall                                & 49.26281 & -123.2554\\\\\n",
       "\t Extra Blue Phone                                                          & Behind the Earth Science Building              & 49.26331 & -123.2532\\\\\n",
       "\\end{tabular}\n"
      ],
      "text/markdown": [
       "\n",
       "A tibble: 8 × 4\n",
       "\n",
       "| Formal_Name_and_Room &lt;chr&gt; | Street_Address &lt;chr&gt; | Latitude &lt;dbl&gt; | Longitude &lt;dbl&gt; |\n",
       "|---|---|---|---|\n",
       "| Blue Phone 10 Biological Sciences @ Main Mall &amp; University Blvd           | 6270 UNIVERSITY BLVD Biological Sciences Bldg  | 49.26471 | -123.2523 |\n",
       "| Blue Phone 11 Earth Sciences Building @ Main Mall &amp; Stores Road           | 2207 MAIN MALL                                 | 49.26253 | -123.2511 |\n",
       "| Blue Phone 12 Earth &amp; Ocean Sciences @ Stores Road at EOS                 | 6339 STORES RD                                 | 49.26195 | -123.2524 |\n",
       "| Blue Phone 26 Jack Bell @ West Mall &amp; University Blvd                     | 2080 WEST MALL Jack BELL School of Social Work | 49.26421 | -123.2549 |\n",
       "| Blue Phone 27 West Parkade @ Lower Mall &amp; Pedestrian Path at West Parkade | 2140 LOWER MALL                                | 49.26201 | -123.2551 |\n",
       "| Blue Phone 29 CIRS @ West Mall &amp; Stores Road                              | 2260 WEST MALL &amp; STORES Rd                     | 49.26166 | -123.2533 |\n",
       "| Blue Phone 76 West Parkade North Rooftop Level 11                         | 2140 Lower Mall                                | 49.26281 | -123.2554 |\n",
       "| Extra Blue Phone                                                          | Behind the Earth Science Building              | 49.26331 | -123.2532 |\n",
       "\n"
      ],
      "text/plain": [
       "  Formal_Name_and_Room                                                     \n",
       "1 Blue Phone 10 Biological Sciences @ Main Mall & University Blvd          \n",
       "2 Blue Phone 11 Earth Sciences Building @ Main Mall & Stores Road          \n",
       "3 Blue Phone 12 Earth & Ocean Sciences @ Stores Road at EOS                \n",
       "4 Blue Phone 26 Jack Bell @ West Mall & University Blvd                    \n",
       "5 Blue Phone 27 West Parkade @ Lower Mall & Pedestrian Path at West Parkade\n",
       "6 Blue Phone 29 CIRS @ West Mall & Stores Road                             \n",
       "7 Blue Phone 76 West Parkade North Rooftop Level 11                        \n",
       "8 Extra Blue Phone                                                         \n",
       "  Street_Address                                 Latitude Longitude\n",
       "1 6270 UNIVERSITY BLVD Biological Sciences Bldg  49.26471 -123.2523\n",
       "2 2207 MAIN MALL                                 49.26253 -123.2511\n",
       "3 6339 STORES RD                                 49.26195 -123.2524\n",
       "4 2080 WEST MALL Jack BELL School of Social Work 49.26421 -123.2549\n",
       "5 2140 LOWER MALL                                49.26201 -123.2551\n",
       "6 2260 WEST MALL & STORES Rd                     49.26166 -123.2533\n",
       "7 2140 Lower Mall                                49.26281 -123.2554\n",
       "8 Behind the Earth Science Building              49.26331 -123.2532"
      ]
     },
     "metadata": {},
     "output_type": "display_data"
    }
   ],
   "source": [
    "bluephone_distance_max_location_with_extra <- bluephone_distance_max_location_without_extra |>\n",
    "    bind_rows(tibble(Formal_Name_and_Room = \"Extra Blue Phone\",\n",
    "                     Street_Address = \"Behind the Earth Science Building\",\n",
    "                     Latitude = 49.26331,\n",
    "                     Longitude = -123.25323))\n",
    "\n",
    "bluephone_distance_max_location_with_extra"
   ]
  },
  {
   "cell_type": "code",
   "execution_count": 32,
   "id": "1f4fc523-312f-4445-8973-aa6eddf373d8",
   "metadata": {},
   "outputs": [],
   "source": [
    "#plot the location on the map\n",
    "\n",
    "bluephone_map_max_distance_without_extra <- leaflet(data = bluephone_distance_max_location_without_extra) |>\n",
    "    addTiles() |>\n",
    "    fitBounds(-123.250,49.261,-123.256,49.265) |>\n",
    "    addHeatmap(lng = ~Longitude, lat = ~Latitude,  intensity = 0.1,\n",
    "    layerId = NULL, group = NULL, minOpacity = 0.05, max = 0.08,\n",
    "    radius = 60, blur = 70, gradient = NULL, cellSize = 10,\n",
    "    data = bluephone_distance_max_location_without_extra) |>\n",
    "    addScaleBar()\n",
    "\n",
    "#bluephone_map_max_distance_without_extra"
   ]
  },
  {
   "cell_type": "markdown",
   "id": "125d7659-f034-4c2b-a867-06cb046bfbf8",
   "metadata": {},
   "source": [
    "<!-- mapshot(base_map, file = \"Map Image Save/Heat map without extra bluephone.jpg\") -->\n",
    "<img src=\"Map Image Save/Heat map without extra bluephone.jpg\">"
   ]
  },
  {
   "cell_type": "code",
   "execution_count": 36,
   "id": "b3880555-51f7-4249-bdfc-753502b89a77",
   "metadata": {},
   "outputs": [],
   "source": [
    "bluephone_map_connection_without_extra <- leaflet(data = bluephone_distance_max_location_without_extra) |>\n",
    "    addTiles() |>\n",
    "    fitBounds(-123.250,49.261,-123.256,49.265) |>\n",
    "    addMarkers(lng = ~Longitude, \n",
    "               lat = ~Latitude, \n",
    "               popup = ~Street_Address,\n",
    "               label = ~Formal_Name_and_Room) |>\n",
    "    addMarkers(data = bluephone_distance_max_location_without_extra,\n",
    "               lng = ~Longitude, \n",
    "               lat = ~Latitude,\n",
    "               popup = ~Formal_Name_and_Room,\n",
    "               label = ~Formal_Name_and_Room) |>\n",
    "    addPolylines(data = bind_rows(bluephone_distance_max_location_without_extra[1,],\n",
    "                               bluephone_distance_max_location_without_extra[2,]), \n",
    "                 lng = ~Longitude, lat = ~Latitude) |>\n",
    "    addPolylines(data = bind_rows(bluephone_distance_max_location_without_extra[2,],\n",
    "                               bluephone_distance_max_location_without_extra[3,]), \n",
    "                 lng = ~Longitude, lat = ~Latitude) |>\n",
    "    addPolylines(data = bind_rows(bluephone_distance_max_location_without_extra[3,],\n",
    "                               bluephone_distance_max_location_without_extra[6,]), \n",
    "                 lng = ~Longitude, lat = ~Latitude) |>\n",
    "    addPolylines(data = bind_rows(bluephone_distance_max_location_without_extra[6,],\n",
    "                               bluephone_distance_max_location_without_extra[5,]), \n",
    "                 lng = ~Longitude, lat = ~Latitude) |>\n",
    "    addPolylines(data = bind_rows(bluephone_distance_max_location_without_extra[5,],\n",
    "                               bluephone_distance_max_location_without_extra[7,]), \n",
    "                 lng = ~Longitude, lat = ~Latitude) |>\n",
    "    addPolylines(data = bind_rows(bluephone_distance_max_location_without_extra[7,],\n",
    "                               bluephone_distance_max_location_without_extra[4,]), \n",
    "                 lng = ~Longitude, lat = ~Latitude) |>\n",
    "    addPolylines(data = bind_rows(bluephone_distance_max_location_without_extra[4,],\n",
    "                               bluephone_distance_max_location_without_extra[1,]), \n",
    "                 lng = ~Longitude, lat = ~Latitude) |>\n",
    "    addScaleBar()\n",
    "\n",
    "#bluephone_map_connection_without_extra"
   ]
  },
  {
   "cell_type": "markdown",
   "id": "b8fd22b4-9c1d-449b-b6a9-00a0aafc4302",
   "metadata": {},
   "source": [
    "<!-- mapshot(base_map, file = \"Map Image Save/Isolation without extra.jpg\") -->\n",
    "<img src=\"Map Image Save/Isolation without extra.jpg\">"
   ]
  },
  {
   "cell_type": "markdown",
   "id": "00e4acda-5f6b-41d6-8543-8a738c2b9146",
   "metadata": {},
   "source": [
    "### After we install a extra bluephone"
   ]
  },
  {
   "cell_type": "code",
   "execution_count": 38,
   "id": "5fe1b7fa-133e-4c75-9a7b-45cd86465a28",
   "metadata": {},
   "outputs": [],
   "source": [
    "bluephone_heatmap_area_with_extra <- addHeatmap(bluephone_map_max_distance_without_extra, \n",
    "                                                lng = ~Longitude, lat = ~Latitude,  intensity = 0.1,\n",
    "                                                layerId = NULL, group = NULL, minOpacity = 0.05, max = 0.08,\n",
    "                                                radius = 60, blur = 70, gradient = NULL, cellSize = 10,\n",
    "                                                data = bluephone_distance_max_location_with_extra) |>\n",
    "    addMarkers(data = bluephone_distance_max_location_with_extra,\n",
    "               lng = ~Longitude, \n",
    "               lat = ~Latitude,\n",
    "               popup = ~Formal_Name_and_Room,\n",
    "               label = ~Formal_Name_and_Room)\n",
    "\n",
    "#bluephone_heatmap_area_with_extra"
   ]
  },
  {
   "cell_type": "markdown",
   "id": "8366abb8-35ca-4375-8ee2-f87964dc0e6c",
   "metadata": {},
   "source": [
    "<!-- mapshot(base_map, file = \"Map Image Save/Heat map with extra bluephone.jpg\") -->\n",
    "<img src=\"Map Image Save/Heat map with extra bluephone.jpg\">"
   ]
  },
  {
   "cell_type": "code",
   "execution_count": 40,
   "id": "8cc3676b-1591-4fa8-ade2-9a209539618b",
   "metadata": {},
   "outputs": [],
   "source": [
    "#plot the location on the map\n",
    "\n",
    "bluephone_map_connection_with_extra <- leaflet(data = bluephone_distance_max_location_with_extra) |>\n",
    "    addTiles() |>\n",
    "    fitBounds(-123.250,49.261,-123.256,49.265) |>\n",
    "    addMarkers(lng = ~Longitude, \n",
    "               lat = ~Latitude, \n",
    "               popup = ~Street_Address,\n",
    "               label = ~Formal_Name_and_Room) |>\n",
    "    addMarkers(data = bluephone_distance_max_location_with_extra,\n",
    "               lng = ~Longitude, \n",
    "               lat = ~Latitude,\n",
    "               popup = ~Formal_Name_and_Room,\n",
    "               label = ~Formal_Name_and_Room) |>\n",
    "    addPolylines(data = bind_rows(bluephone_distance_max_location_with_extra[8,],\n",
    "                               bluephone_distance_max_location_with_extra[1,]), \n",
    "                 lng = ~Longitude, lat = ~Latitude) |>\n",
    "    addPolylines(data = bind_rows(bluephone_distance_max_location_with_extra[8,],\n",
    "                               bluephone_distance_max_location_with_extra[2,]), \n",
    "                 lng = ~Longitude, lat = ~Latitude) |>\n",
    "    addPolylines(data = bind_rows(bluephone_distance_max_location_with_extra[8,],\n",
    "                               bluephone_distance_max_location_with_extra[3,]), \n",
    "                 lng = ~Longitude, lat = ~Latitude) |>\n",
    "    addPolylines(data = bind_rows(bluephone_distance_max_location_with_extra[8,],\n",
    "                               bluephone_distance_max_location_with_extra[4,]), \n",
    "                 lng = ~Longitude, lat = ~Latitude) |>\n",
    "    addPolylines(data = bind_rows(bluephone_distance_max_location_with_extra[8,],\n",
    "                               bluephone_distance_max_location_with_extra[5,]), \n",
    "                 lng = ~Longitude, lat = ~Latitude) |>\n",
    "    addPolylines(data = bind_rows(bluephone_distance_max_location_with_extra[8,],\n",
    "                               bluephone_distance_max_location_with_extra[6,]), \n",
    "                 lng = ~Longitude, lat = ~Latitude) |>\n",
    "    addPolylines(data = bind_rows(bluephone_distance_max_location_with_extra[8,],\n",
    "                               bluephone_distance_max_location_with_extra[7,]), \n",
    "                 lng = ~Longitude, lat = ~Latitude) |>\n",
    "    addScaleBar()\n",
    "\n",
    "#bluephone_map_connection_with_extra"
   ]
  },
  {
   "cell_type": "markdown",
   "id": "02e3de25-978f-43f1-b29c-099cef5d5da1",
   "metadata": {},
   "source": [
    "<!-- mapshot(base_map, file = \"Map Image Save/Isolation with extra.jpg\") -->\n",
    "<img src=\"Map Image Save/Isolation with extra.jpg\">`"
   ]
  },
  {
   "cell_type": "code",
   "execution_count": null,
   "id": "35dbb60f-9a78-4724-b05e-49cb771ebf73",
   "metadata": {},
   "outputs": [],
   "source": []
  }
 ],
 "metadata": {
  "celltoolbar": "Slideshow",
  "kernelspec": {
   "display_name": "R",
   "language": "R",
   "name": "ir"
  },
  "language_info": {
   "codemirror_mode": "r",
   "file_extension": ".r",
   "mimetype": "text/x-r-source",
   "name": "R",
   "pygments_lexer": "r",
   "version": "4.3.0"
  },
  "toc": {
   "base_numbering": 1,
   "nav_menu": {},
   "number_sections": true,
   "sideBar": true,
   "skip_h1_title": false,
   "title_cell": "Table of Contents",
   "title_sidebar": "Contents",
   "toc_cell": false,
   "toc_position": {},
   "toc_section_display": true,
   "toc_window_display": false
  }
 },
 "nbformat": 4,
 "nbformat_minor": 5
}
