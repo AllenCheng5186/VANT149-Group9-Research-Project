{
 "cells": [
  {
   "cell_type": "code",
   "execution_count": 1,
   "id": "a72ec46c-77af-4dcc-a364-757fc2294f1f",
   "metadata": {},
   "outputs": [
    {
     "name": "stderr",
     "output_type": "stream",
     "text": [
      "── \u001b[1mAttaching core tidyverse packages\u001b[22m ──────────────────────── tidyverse 2.0.0 ──\n",
      "\u001b[32m✔\u001b[39m \u001b[34mdplyr    \u001b[39m 1.1.2     \u001b[32m✔\u001b[39m \u001b[34mreadr    \u001b[39m 2.1.4\n",
      "\u001b[32m✔\u001b[39m \u001b[34mforcats  \u001b[39m 1.0.0     \u001b[32m✔\u001b[39m \u001b[34mstringr  \u001b[39m 1.5.0\n",
      "\u001b[32m✔\u001b[39m \u001b[34mggplot2  \u001b[39m 3.4.2     \u001b[32m✔\u001b[39m \u001b[34mtibble   \u001b[39m 3.2.1\n",
      "\u001b[32m✔\u001b[39m \u001b[34mlubridate\u001b[39m 1.9.2     \u001b[32m✔\u001b[39m \u001b[34mtidyr    \u001b[39m 1.3.0\n",
      "\u001b[32m✔\u001b[39m \u001b[34mpurrr    \u001b[39m 1.0.1     \n",
      "── \u001b[1mConflicts\u001b[22m ────────────────────────────────────────── tidyverse_conflicts() ──\n",
      "\u001b[31m✖\u001b[39m \u001b[34mdplyr\u001b[39m::\u001b[32mfilter()\u001b[39m masks \u001b[34mstats\u001b[39m::filter()\n",
      "\u001b[31m✖\u001b[39m \u001b[34mdplyr\u001b[39m::\u001b[32mlag()\u001b[39m    masks \u001b[34mstats\u001b[39m::lag()\n",
      "\u001b[36mℹ\u001b[39m Use the conflicted package (\u001b[3m\u001b[34m<http://conflicted.r-lib.org/>\u001b[39m\u001b[23m) to force all conflicts to become errors\n",
      "Linking to GEOS 3.11.0, GDAL 3.5.3, PROJ 9.1.0; sf_use_s2() is TRUE\n",
      "\n",
      "\n",
      "Attaching package: ‘rvest’\n",
      "\n",
      "\n",
      "The following object is masked from ‘package:readr’:\n",
      "\n",
      "    guess_encoding\n",
      "\n",
      "\n",
      "\u001b[32mℹ\u001b[39m Google's Terms of Service: \u001b[34m\u001b[3m<https://mapsplatform.google.com>\u001b[23m\u001b[39m\n",
      "\u001b[32mℹ\u001b[39m Please cite \u001b[34mggmap\u001b[39m if you use it! Use `citation(\"ggmap\")` for details.\n",
      "\n",
      "Attaching package: ‘maps’\n",
      "\n",
      "\n",
      "The following object is masked from ‘package:purrr’:\n",
      "\n",
      "    map\n",
      "\n",
      "\n",
      "Loading required package: grid\n",
      "\n"
     ]
    }
   ],
   "source": [
    "library(tidyverse)\n",
    "library(sf)\n",
    "library(mapview)\n",
    "library(rvest)\n",
    "library(httr)\n",
    "library(ggplot2)\n",
    "library(ggmap)\n",
    "library(maps)\n",
    "library(ggsn)\n",
    "library(geosphere)\n",
    "library(dplyr)\n",
    "library(RColorBrewer)\n",
    "library(readxl)\n",
    "library(leaflet)\n",
    "library(leaflet.extras)"
   ]
  },
  {
   "cell_type": "code",
   "execution_count": 2,
   "id": "a9bbc4e0-7a4d-4eea-98e5-1fcb9dad4243",
   "metadata": {},
   "outputs": [
    {
     "name": "stderr",
     "output_type": "stream",
     "text": [
      "\u001b[1mRows: \u001b[22m\u001b[34m89\u001b[39m \u001b[1mColumns: \u001b[22m\u001b[34m4\u001b[39m\n",
      "\u001b[36m──\u001b[39m \u001b[1mColumn specification\u001b[22m \u001b[36m────────────────────────────────────────────────────────\u001b[39m\n",
      "\u001b[1mDelimiter:\u001b[22m \",\"\n",
      "\u001b[31mchr\u001b[39m (2): Formal_Name_and_Room, Street_Address\n",
      "\u001b[32mdbl\u001b[39m (2): Latitude, Longitude\n",
      "\n",
      "\u001b[36mℹ\u001b[39m Use `spec()` to retrieve the full column specification for this data.\n",
      "\u001b[36mℹ\u001b[39m Specify the column types or set `show_col_types = FALSE` to quiet this message.\n"
     ]
    },
    {
     "data": {
      "text/html": [
       "<table class=\"dataframe\">\n",
       "<caption>A tibble: 6 × 4</caption>\n",
       "<thead>\n",
       "\t<tr><th scope=col>Formal_Name_and_Room</th><th scope=col>Street_Address</th><th scope=col>Latitude</th><th scope=col>Longitude</th></tr>\n",
       "\t<tr><th scope=col>&lt;chr&gt;</th><th scope=col>&lt;chr&gt;</th><th scope=col>&lt;dbl&gt;</th><th scope=col>&lt;dbl&gt;</th></tr>\n",
       "</thead>\n",
       "<tbody>\n",
       "\t<tr><td>Blue Phone 01 ANSOC @ Northwest Marine Drive             </td><td>6303 N W MARINE DR at ANSOC Building        </td><td>49.26973</td><td>-123.2572</td></tr>\n",
       "\t<tr><td>Blue Phone 03 Flagpole Plaza @ Main Mall &amp; Crescent Road </td><td><span style=white-space:pre-wrap>Main Mall &amp; Crescent Road                   </span></td><td>49.26894</td><td>-123.2566</td></tr>\n",
       "\t<tr><td><span style=white-space:pre-wrap>Blue Phone 04 Wyman Plaza @ Main Mall &amp; Memorial Road    </span></td><td><span style=white-space:pre-wrap>Main Mall &amp; Memorial Road                   </span></td><td>49.26777</td><td>-123.2550</td></tr>\n",
       "\t<tr><td>Blue Phone 05 Ponderosa F @ Lower Mall &amp; Pedestrian Path </td><td><span style=white-space:pre-wrap>2008 LOWER MALL Ponderosa Annex F           </span></td><td>49.26497</td><td>-123.2575</td></tr>\n",
       "\t<tr><td>Blue Phone 06 Ponderosa A @ West Mall &amp; Agricultural Road</td><td><span style=white-space:pre-wrap>2011 WEST MALL Ponderosa Annex A            </span></td><td>49.26534</td><td>-123.2562</td></tr>\n",
       "\t<tr><td><span style=white-space:pre-wrap>Blue Phone 07 Hennings @ East Mall &amp; Agricultural Road   </span></td><td>6224 AGRICULTURAL RD/EAST MALL Hennings Bldg</td><td>49.26697</td><td>-123.2518</td></tr>\n",
       "</tbody>\n",
       "</table>\n"
      ],
      "text/latex": [
       "A tibble: 6 × 4\n",
       "\\begin{tabular}{llll}\n",
       " Formal\\_Name\\_and\\_Room & Street\\_Address & Latitude & Longitude\\\\\n",
       " <chr> & <chr> & <dbl> & <dbl>\\\\\n",
       "\\hline\n",
       "\t Blue Phone 01 ANSOC @ Northwest Marine Drive              & 6303 N W MARINE DR at ANSOC Building         & 49.26973 & -123.2572\\\\\n",
       "\t Blue Phone 03 Flagpole Plaza @ Main Mall \\& Crescent Road  & Main Mall \\& Crescent Road                    & 49.26894 & -123.2566\\\\\n",
       "\t Blue Phone 04 Wyman Plaza @ Main Mall \\& Memorial Road     & Main Mall \\& Memorial Road                    & 49.26777 & -123.2550\\\\\n",
       "\t Blue Phone 05 Ponderosa F @ Lower Mall \\& Pedestrian Path  & 2008 LOWER MALL Ponderosa Annex F            & 49.26497 & -123.2575\\\\\n",
       "\t Blue Phone 06 Ponderosa A @ West Mall \\& Agricultural Road & 2011 WEST MALL Ponderosa Annex A             & 49.26534 & -123.2562\\\\\n",
       "\t Blue Phone 07 Hennings @ East Mall \\& Agricultural Road    & 6224 AGRICULTURAL RD/EAST MALL Hennings Bldg & 49.26697 & -123.2518\\\\\n",
       "\\end{tabular}\n"
      ],
      "text/markdown": [
       "\n",
       "A tibble: 6 × 4\n",
       "\n",
       "| Formal_Name_and_Room &lt;chr&gt; | Street_Address &lt;chr&gt; | Latitude &lt;dbl&gt; | Longitude &lt;dbl&gt; |\n",
       "|---|---|---|---|\n",
       "| Blue Phone 01 ANSOC @ Northwest Marine Drive              | 6303 N W MARINE DR at ANSOC Building         | 49.26973 | -123.2572 |\n",
       "| Blue Phone 03 Flagpole Plaza @ Main Mall &amp; Crescent Road  | Main Mall &amp; Crescent Road                    | 49.26894 | -123.2566 |\n",
       "| Blue Phone 04 Wyman Plaza @ Main Mall &amp; Memorial Road     | Main Mall &amp; Memorial Road                    | 49.26777 | -123.2550 |\n",
       "| Blue Phone 05 Ponderosa F @ Lower Mall &amp; Pedestrian Path  | 2008 LOWER MALL Ponderosa Annex F            | 49.26497 | -123.2575 |\n",
       "| Blue Phone 06 Ponderosa A @ West Mall &amp; Agricultural Road | 2011 WEST MALL Ponderosa Annex A             | 49.26534 | -123.2562 |\n",
       "| Blue Phone 07 Hennings @ East Mall &amp; Agricultural Road    | 6224 AGRICULTURAL RD/EAST MALL Hennings Bldg | 49.26697 | -123.2518 |\n",
       "\n"
      ],
      "text/plain": [
       "  Formal_Name_and_Room                                     \n",
       "1 Blue Phone 01 ANSOC @ Northwest Marine Drive             \n",
       "2 Blue Phone 03 Flagpole Plaza @ Main Mall & Crescent Road \n",
       "3 Blue Phone 04 Wyman Plaza @ Main Mall & Memorial Road    \n",
       "4 Blue Phone 05 Ponderosa F @ Lower Mall & Pedestrian Path \n",
       "5 Blue Phone 06 Ponderosa A @ West Mall & Agricultural Road\n",
       "6 Blue Phone 07 Hennings @ East Mall & Agricultural Road   \n",
       "  Street_Address                               Latitude Longitude\n",
       "1 6303 N W MARINE DR at ANSOC Building         49.26973 -123.2572\n",
       "2 Main Mall & Crescent Road                    49.26894 -123.2566\n",
       "3 Main Mall & Memorial Road                    49.26777 -123.2550\n",
       "4 2008 LOWER MALL Ponderosa Annex F            49.26497 -123.2575\n",
       "5 2011 WEST MALL Ponderosa Annex A             49.26534 -123.2562\n",
       "6 6224 AGRICULTURAL RD/EAST MALL Hennings Bldg 49.26697 -123.2518"
      ]
     },
     "metadata": {},
     "output_type": "display_data"
    }
   ],
   "source": [
    "Bluephone_location <- read_csv(\"data/Bluephone Locations My Map Downloaded with coordinates.csv\")\n",
    "head(Bluephone_location)"
   ]
  },
  {
   "cell_type": "code",
   "execution_count": 3,
   "id": "6c60ae2d-2616-429a-90c5-1575d26a9425",
   "metadata": {},
   "outputs": [],
   "source": [
    "Bluephone_location <- Bluephone_location |>\n",
    "    mutate(across(Longitude, as.double))"
   ]
  },
  {
   "cell_type": "code",
   "execution_count": 4,
   "id": "0248df43-5c76-44a5-a7ed-91e182b7ea85",
   "metadata": {},
   "outputs": [
    {
     "data": {
      "text/html": [
       "<table class=\"dataframe\">\n",
       "<caption>A tibble: 6 × 4</caption>\n",
       "<thead>\n",
       "\t<tr><th scope=col>Formal_Name_and_Room</th><th scope=col>Street_Address</th><th scope=col>Latitude</th><th scope=col>Longitude</th></tr>\n",
       "\t<tr><th scope=col>&lt;chr&gt;</th><th scope=col>&lt;chr&gt;</th><th scope=col>&lt;dbl&gt;</th><th scope=col>&lt;dbl&gt;</th></tr>\n",
       "</thead>\n",
       "<tbody>\n",
       "\t<tr><td>Blue Phone 01 ANSOC @ Northwest Marine Drive             </td><td>6303 N W MARINE DR at ANSOC Building        </td><td>49.26973</td><td>-123.2572</td></tr>\n",
       "\t<tr><td>Blue Phone 03 Flagpole Plaza @ Main Mall &amp; Crescent Road </td><td><span style=white-space:pre-wrap>Main Mall &amp; Crescent Road                   </span></td><td>49.26894</td><td>-123.2566</td></tr>\n",
       "\t<tr><td><span style=white-space:pre-wrap>Blue Phone 04 Wyman Plaza @ Main Mall &amp; Memorial Road    </span></td><td><span style=white-space:pre-wrap>Main Mall &amp; Memorial Road                   </span></td><td>49.26777</td><td>-123.2550</td></tr>\n",
       "\t<tr><td>Blue Phone 05 Ponderosa F @ Lower Mall &amp; Pedestrian Path </td><td><span style=white-space:pre-wrap>2008 LOWER MALL Ponderosa Annex F           </span></td><td>49.26497</td><td>-123.2575</td></tr>\n",
       "\t<tr><td>Blue Phone 06 Ponderosa A @ West Mall &amp; Agricultural Road</td><td><span style=white-space:pre-wrap>2011 WEST MALL Ponderosa Annex A            </span></td><td>49.26534</td><td>-123.2562</td></tr>\n",
       "\t<tr><td><span style=white-space:pre-wrap>Blue Phone 07 Hennings @ East Mall &amp; Agricultural Road   </span></td><td>6224 AGRICULTURAL RD/EAST MALL Hennings Bldg</td><td>49.26697</td><td>-123.2518</td></tr>\n",
       "</tbody>\n",
       "</table>\n"
      ],
      "text/latex": [
       "A tibble: 6 × 4\n",
       "\\begin{tabular}{llll}\n",
       " Formal\\_Name\\_and\\_Room & Street\\_Address & Latitude & Longitude\\\\\n",
       " <chr> & <chr> & <dbl> & <dbl>\\\\\n",
       "\\hline\n",
       "\t Blue Phone 01 ANSOC @ Northwest Marine Drive              & 6303 N W MARINE DR at ANSOC Building         & 49.26973 & -123.2572\\\\\n",
       "\t Blue Phone 03 Flagpole Plaza @ Main Mall \\& Crescent Road  & Main Mall \\& Crescent Road                    & 49.26894 & -123.2566\\\\\n",
       "\t Blue Phone 04 Wyman Plaza @ Main Mall \\& Memorial Road     & Main Mall \\& Memorial Road                    & 49.26777 & -123.2550\\\\\n",
       "\t Blue Phone 05 Ponderosa F @ Lower Mall \\& Pedestrian Path  & 2008 LOWER MALL Ponderosa Annex F            & 49.26497 & -123.2575\\\\\n",
       "\t Blue Phone 06 Ponderosa A @ West Mall \\& Agricultural Road & 2011 WEST MALL Ponderosa Annex A             & 49.26534 & -123.2562\\\\\n",
       "\t Blue Phone 07 Hennings @ East Mall \\& Agricultural Road    & 6224 AGRICULTURAL RD/EAST MALL Hennings Bldg & 49.26697 & -123.2518\\\\\n",
       "\\end{tabular}\n"
      ],
      "text/markdown": [
       "\n",
       "A tibble: 6 × 4\n",
       "\n",
       "| Formal_Name_and_Room &lt;chr&gt; | Street_Address &lt;chr&gt; | Latitude &lt;dbl&gt; | Longitude &lt;dbl&gt; |\n",
       "|---|---|---|---|\n",
       "| Blue Phone 01 ANSOC @ Northwest Marine Drive              | 6303 N W MARINE DR at ANSOC Building         | 49.26973 | -123.2572 |\n",
       "| Blue Phone 03 Flagpole Plaza @ Main Mall &amp; Crescent Road  | Main Mall &amp; Crescent Road                    | 49.26894 | -123.2566 |\n",
       "| Blue Phone 04 Wyman Plaza @ Main Mall &amp; Memorial Road     | Main Mall &amp; Memorial Road                    | 49.26777 | -123.2550 |\n",
       "| Blue Phone 05 Ponderosa F @ Lower Mall &amp; Pedestrian Path  | 2008 LOWER MALL Ponderosa Annex F            | 49.26497 | -123.2575 |\n",
       "| Blue Phone 06 Ponderosa A @ West Mall &amp; Agricultural Road | 2011 WEST MALL Ponderosa Annex A             | 49.26534 | -123.2562 |\n",
       "| Blue Phone 07 Hennings @ East Mall &amp; Agricultural Road    | 6224 AGRICULTURAL RD/EAST MALL Hennings Bldg | 49.26697 | -123.2518 |\n",
       "\n"
      ],
      "text/plain": [
       "  Formal_Name_and_Room                                     \n",
       "1 Blue Phone 01 ANSOC @ Northwest Marine Drive             \n",
       "2 Blue Phone 03 Flagpole Plaza @ Main Mall & Crescent Road \n",
       "3 Blue Phone 04 Wyman Plaza @ Main Mall & Memorial Road    \n",
       "4 Blue Phone 05 Ponderosa F @ Lower Mall & Pedestrian Path \n",
       "5 Blue Phone 06 Ponderosa A @ West Mall & Agricultural Road\n",
       "6 Blue Phone 07 Hennings @ East Mall & Agricultural Road   \n",
       "  Street_Address                               Latitude Longitude\n",
       "1 6303 N W MARINE DR at ANSOC Building         49.26973 -123.2572\n",
       "2 Main Mall & Crescent Road                    49.26894 -123.2566\n",
       "3 Main Mall & Memorial Road                    49.26777 -123.2550\n",
       "4 2008 LOWER MALL Ponderosa Annex F            49.26497 -123.2575\n",
       "5 2011 WEST MALL Ponderosa Annex A             49.26534 -123.2562\n",
       "6 6224 AGRICULTURAL RD/EAST MALL Hennings Bldg 49.26697 -123.2518"
      ]
     },
     "metadata": {},
     "output_type": "display_data"
    }
   ],
   "source": [
    "head(Bluephone_location)"
   ]
  },
  {
   "cell_type": "code",
   "execution_count": 5,
   "id": "f8ead6e4-c550-4171-bdf0-fad75f3f8d41",
   "metadata": {},
   "outputs": [],
   "source": [
    "base_map <- leaflet() %>%\n",
    "    addTiles() %>%\n",
    "    fitBounds(-123.22,49.263,-123.28,49.27)\n",
    "\n",
    "#base_map"
   ]
  },
  {
   "cell_type": "code",
   "execution_count": 6,
   "id": "7fdee7c9-e9cf-4f3a-9432-5e0e7f490f3e",
   "metadata": {},
   "outputs": [],
   "source": [
    "# save the map view\n",
    "mapshot(base_map, file = \"Map Image Save/base map.png\")"
   ]
  },
  {
   "cell_type": "markdown",
   "id": "924ea730-6e63-4234-8576-006d04a31326",
   "metadata": {},
   "source": [
    "<!-- mapshot(base_map, file = \"Map Image Save/base map.png\") -->\n",
    "<img src=\"Map Image Save/base map.png\" width=\"600\" height=\"300\">"
   ]
  },
  {
   "cell_type": "code",
   "execution_count": 7,
   "id": "fe5fd230-2ea0-4da3-9f04-e73ecc674012",
   "metadata": {
    "tags": []
   },
   "outputs": [],
   "source": [
    "bluephone_map <- leaflet(data = Bluephone_location) %>%\n",
    "    addTiles() %>%\n",
    "    fitBounds(-123.22,49.263,-123.28,49.27) %>%\n",
    "    addMarkers(lng = ~Longitude, \n",
    "               lat = ~Latitude, \n",
    "               popup = ~Street_Address, label = ~Formal_Name_and_Room)\n",
    "\n",
    "#bluephone_map"
   ]
  },
  {
   "cell_type": "code",
   "execution_count": 8,
   "id": "0ead2ff7-6ae7-4417-bbeb-bca3a2ce3515",
   "metadata": {},
   "outputs": [],
   "source": [
    "# save the map view\n",
    "mapshot(bluephone_map, file = \"Map Image Save/bluephone map.png\")"
   ]
  },
  {
   "cell_type": "markdown",
   "id": "deb88f47-cf69-4916-8a1b-dce276134567",
   "metadata": {},
   "source": [
    "<!-- mapshot(base_map, file = \"Map Image Save/base map.png\") -->\n",
    "<img src=\"Map Image Save/bluephone map.png\" width=\"600\" height=\"300\">"
   ]
  },
  {
   "cell_type": "code",
   "execution_count": 9,
   "id": "d533a451-04ee-42b9-b928-d9e43c3fdab0",
   "metadata": {
    "tags": []
   },
   "outputs": [],
   "source": [
    "# heatmap of bluephone density\n",
    "bluephone_heatmap <- addHeatmap(base_map, lng = ~Longitude, lat = ~Latitude,  intensity = 0.1,\n",
    "    layerId = NULL, group = NULL, minOpacity = 0.05, max = 0.05,\n",
    "    radius = 20, blur = 25, gradient = NULL, cellSize = 10,\n",
    "    data = Bluephone_location)\n",
    "\n",
    "#bluephone_heatmap"
   ]
  },
  {
   "cell_type": "code",
   "execution_count": 10,
   "id": "5315b7d0-de34-453c-a7c2-86e90210421d",
   "metadata": {},
   "outputs": [],
   "source": [
    "# save the map view\n",
    "mapshot(bluephone_heatmap, file = \"Map Image Save/bluephone heatmap.png\")"
   ]
  },
  {
   "cell_type": "markdown",
   "id": "168535da-eb8d-4142-8e13-0dbcf696722e",
   "metadata": {},
   "source": [
    "<!-- mapshot(base_map, file = \"Map Image Save/base map.png\") -->\n",
    "<img src=\"Map Image Save/bluephone heatmap.png\" width=\"600\" height=\"300\">"
   ]
  },
  {
   "cell_type": "code",
   "execution_count": 11,
   "id": "d8a892f2-c451-4fa0-86a7-b0f45541556a",
   "metadata": {
    "tags": []
   },
   "outputs": [
    {
     "data": {
      "text/html": [
       "<table class=\"dataframe\">\n",
       "<caption>A tibble: 6 × 4</caption>\n",
       "<thead>\n",
       "\t<tr><th scope=col>Formal_Name_and_Room</th><th scope=col>Street_Address</th><th scope=col>Latitude</th><th scope=col>Longitude</th></tr>\n",
       "\t<tr><th scope=col>&lt;chr&gt;</th><th scope=col>&lt;chr&gt;</th><th scope=col>&lt;dbl&gt;</th><th scope=col>&lt;dbl&gt;</th></tr>\n",
       "</thead>\n",
       "<tbody>\n",
       "\t<tr><td>Blue Phone 01 ANSOC @ Northwest Marine Drive             </td><td>6303 N W MARINE DR at ANSOC Building        </td><td>49.26973</td><td>-123.2572</td></tr>\n",
       "\t<tr><td>Blue Phone 03 Flagpole Plaza @ Main Mall &amp; Crescent Road </td><td><span style=white-space:pre-wrap>Main Mall &amp; Crescent Road                   </span></td><td>49.26894</td><td>-123.2566</td></tr>\n",
       "\t<tr><td><span style=white-space:pre-wrap>Blue Phone 04 Wyman Plaza @ Main Mall &amp; Memorial Road    </span></td><td><span style=white-space:pre-wrap>Main Mall &amp; Memorial Road                   </span></td><td>49.26777</td><td>-123.2550</td></tr>\n",
       "\t<tr><td>Blue Phone 05 Ponderosa F @ Lower Mall &amp; Pedestrian Path </td><td><span style=white-space:pre-wrap>2008 LOWER MALL Ponderosa Annex F           </span></td><td>49.26497</td><td>-123.2575</td></tr>\n",
       "\t<tr><td>Blue Phone 06 Ponderosa A @ West Mall &amp; Agricultural Road</td><td><span style=white-space:pre-wrap>2011 WEST MALL Ponderosa Annex A            </span></td><td>49.26534</td><td>-123.2562</td></tr>\n",
       "\t<tr><td><span style=white-space:pre-wrap>Blue Phone 07 Hennings @ East Mall &amp; Agricultural Road   </span></td><td>6224 AGRICULTURAL RD/EAST MALL Hennings Bldg</td><td>49.26697</td><td>-123.2518</td></tr>\n",
       "</tbody>\n",
       "</table>\n"
      ],
      "text/latex": [
       "A tibble: 6 × 4\n",
       "\\begin{tabular}{llll}\n",
       " Formal\\_Name\\_and\\_Room & Street\\_Address & Latitude & Longitude\\\\\n",
       " <chr> & <chr> & <dbl> & <dbl>\\\\\n",
       "\\hline\n",
       "\t Blue Phone 01 ANSOC @ Northwest Marine Drive              & 6303 N W MARINE DR at ANSOC Building         & 49.26973 & -123.2572\\\\\n",
       "\t Blue Phone 03 Flagpole Plaza @ Main Mall \\& Crescent Road  & Main Mall \\& Crescent Road                    & 49.26894 & -123.2566\\\\\n",
       "\t Blue Phone 04 Wyman Plaza @ Main Mall \\& Memorial Road     & Main Mall \\& Memorial Road                    & 49.26777 & -123.2550\\\\\n",
       "\t Blue Phone 05 Ponderosa F @ Lower Mall \\& Pedestrian Path  & 2008 LOWER MALL Ponderosa Annex F            & 49.26497 & -123.2575\\\\\n",
       "\t Blue Phone 06 Ponderosa A @ West Mall \\& Agricultural Road & 2011 WEST MALL Ponderosa Annex A             & 49.26534 & -123.2562\\\\\n",
       "\t Blue Phone 07 Hennings @ East Mall \\& Agricultural Road    & 6224 AGRICULTURAL RD/EAST MALL Hennings Bldg & 49.26697 & -123.2518\\\\\n",
       "\\end{tabular}\n"
      ],
      "text/markdown": [
       "\n",
       "A tibble: 6 × 4\n",
       "\n",
       "| Formal_Name_and_Room &lt;chr&gt; | Street_Address &lt;chr&gt; | Latitude &lt;dbl&gt; | Longitude &lt;dbl&gt; |\n",
       "|---|---|---|---|\n",
       "| Blue Phone 01 ANSOC @ Northwest Marine Drive              | 6303 N W MARINE DR at ANSOC Building         | 49.26973 | -123.2572 |\n",
       "| Blue Phone 03 Flagpole Plaza @ Main Mall &amp; Crescent Road  | Main Mall &amp; Crescent Road                    | 49.26894 | -123.2566 |\n",
       "| Blue Phone 04 Wyman Plaza @ Main Mall &amp; Memorial Road     | Main Mall &amp; Memorial Road                    | 49.26777 | -123.2550 |\n",
       "| Blue Phone 05 Ponderosa F @ Lower Mall &amp; Pedestrian Path  | 2008 LOWER MALL Ponderosa Annex F            | 49.26497 | -123.2575 |\n",
       "| Blue Phone 06 Ponderosa A @ West Mall &amp; Agricultural Road | 2011 WEST MALL Ponderosa Annex A             | 49.26534 | -123.2562 |\n",
       "| Blue Phone 07 Hennings @ East Mall &amp; Agricultural Road    | 6224 AGRICULTURAL RD/EAST MALL Hennings Bldg | 49.26697 | -123.2518 |\n",
       "\n"
      ],
      "text/plain": [
       "  Formal_Name_and_Room                                     \n",
       "1 Blue Phone 01 ANSOC @ Northwest Marine Drive             \n",
       "2 Blue Phone 03 Flagpole Plaza @ Main Mall & Crescent Road \n",
       "3 Blue Phone 04 Wyman Plaza @ Main Mall & Memorial Road    \n",
       "4 Blue Phone 05 Ponderosa F @ Lower Mall & Pedestrian Path \n",
       "5 Blue Phone 06 Ponderosa A @ West Mall & Agricultural Road\n",
       "6 Blue Phone 07 Hennings @ East Mall & Agricultural Road   \n",
       "  Street_Address                               Latitude Longitude\n",
       "1 6303 N W MARINE DR at ANSOC Building         49.26973 -123.2572\n",
       "2 Main Mall & Crescent Road                    49.26894 -123.2566\n",
       "3 Main Mall & Memorial Road                    49.26777 -123.2550\n",
       "4 2008 LOWER MALL Ponderosa Annex F            49.26497 -123.2575\n",
       "5 2011 WEST MALL Ponderosa Annex A             49.26534 -123.2562\n",
       "6 6224 AGRICULTURAL RD/EAST MALL Hennings Bldg 49.26697 -123.2518"
      ]
     },
     "metadata": {},
     "output_type": "display_data"
    }
   ],
   "source": [
    "head(Bluephone_location)"
   ]
  },
  {
   "cell_type": "code",
   "execution_count": 12,
   "id": "124a2e3c-e1d6-43a9-a3ca-3b9946b6576a",
   "metadata": {},
   "outputs": [],
   "source": [
    "library(geosphere)"
   ]
  },
  {
   "cell_type": "code",
   "execution_count": 13,
   "id": "68583a5b-37a1-4abe-b855-b5f734e86d9e",
   "metadata": {},
   "outputs": [],
   "source": [
    "bluephone_lon_lat <- Bluephone_location |>\n",
    "    select(Longitude, Latitude)"
   ]
  },
  {
   "cell_type": "code",
   "execution_count": 14,
   "id": "dc9c2220-04ae-40b7-b4c8-750bd84a4b72",
   "metadata": {},
   "outputs": [
    {
     "data": {
      "text/html": [
       "<table class=\"dataframe\">\n",
       "<caption>A tibble: 1 × 4</caption>\n",
       "<thead>\n",
       "\t<tr><th scope=col>Formal_Name_and_Room</th><th scope=col>Street_Address</th><th scope=col>Latitude</th><th scope=col>Longitude</th></tr>\n",
       "\t<tr><th scope=col>&lt;chr&gt;</th><th scope=col>&lt;chr&gt;</th><th scope=col>&lt;dbl&gt;</th><th scope=col>&lt;dbl&gt;</th></tr>\n",
       "</thead>\n",
       "<tbody>\n",
       "\t<tr><td>Blue Phone 89</td><td>Saltwater Octopus House</td><td>49.27075</td><td>-123.248</td></tr>\n",
       "</tbody>\n",
       "</table>\n"
      ],
      "text/latex": [
       "A tibble: 1 × 4\n",
       "\\begin{tabular}{llll}\n",
       " Formal\\_Name\\_and\\_Room & Street\\_Address & Latitude & Longitude\\\\\n",
       " <chr> & <chr> & <dbl> & <dbl>\\\\\n",
       "\\hline\n",
       "\t Blue Phone 89 & Saltwater Octopus House & 49.27075 & -123.248\\\\\n",
       "\\end{tabular}\n"
      ],
      "text/markdown": [
       "\n",
       "A tibble: 1 × 4\n",
       "\n",
       "| Formal_Name_and_Room &lt;chr&gt; | Street_Address &lt;chr&gt; | Latitude &lt;dbl&gt; | Longitude &lt;dbl&gt; |\n",
       "|---|---|---|---|\n",
       "| Blue Phone 89 | Saltwater Octopus House | 49.27075 | -123.248 |\n",
       "\n"
      ],
      "text/plain": [
       "  Formal_Name_and_Room Street_Address          Latitude Longitude\n",
       "1 Blue Phone 89        Saltwater Octopus House 49.27075 -123.248 "
      ]
     },
     "metadata": {},
     "output_type": "display_data"
    },
    {
     "data": {
      "text/html": [
       "<table class=\"dataframe\">\n",
       "<caption>A tibble: 1 × 2</caption>\n",
       "<thead>\n",
       "\t<tr><th scope=col>Longitude</th><th scope=col>Latitude</th></tr>\n",
       "\t<tr><th scope=col>&lt;dbl&gt;</th><th scope=col>&lt;dbl&gt;</th></tr>\n",
       "</thead>\n",
       "<tbody>\n",
       "\t<tr><td>-123.248</td><td>49.27075</td></tr>\n",
       "</tbody>\n",
       "</table>\n"
      ],
      "text/latex": [
       "A tibble: 1 × 2\n",
       "\\begin{tabular}{ll}\n",
       " Longitude & Latitude\\\\\n",
       " <dbl> & <dbl>\\\\\n",
       "\\hline\n",
       "\t -123.248 & 49.27075\\\\\n",
       "\\end{tabular}\n"
      ],
      "text/markdown": [
       "\n",
       "A tibble: 1 × 2\n",
       "\n",
       "| Longitude &lt;dbl&gt; | Latitude &lt;dbl&gt; |\n",
       "|---|---|\n",
       "| -123.248 | 49.27075 |\n",
       "\n"
      ],
      "text/plain": [
       "  Longitude Latitude\n",
       "1 -123.248  49.27075"
      ]
     },
     "metadata": {},
     "output_type": "display_data"
    },
    {
     "name": "stderr",
     "output_type": "stream",
     "text": [
      "\u001b[1m\u001b[22m`summarise()` has grouped output by 'Formal_Name_and_Room', 'Latitude'. You can\n",
      "override using the `.groups` argument.\n"
     ]
    },
    {
     "data": {
      "text/html": [
       "<table class=\"dataframe\">\n",
       "<caption>A grouped_df: 1 × 5</caption>\n",
       "<thead>\n",
       "\t<tr><th scope=col>Formal_Name_and_Room</th><th scope=col>closet_Bluephone</th><th scope=col>Latitude</th><th scope=col>Longitude</th><th scope=col>distance</th></tr>\n",
       "\t<tr><th scope=col>&lt;chr&gt;</th><th scope=col>&lt;chr&gt;</th><th scope=col>&lt;dbl&gt;</th><th scope=col>&lt;dbl&gt;</th><th scope=col>&lt;dbl&gt;</th></tr>\n",
       "</thead>\n",
       "<tbody>\n",
       "\t<tr><td>Blue Phone 89</td><td>Blue Phone 88</td><td>49.27007</td><td>-123.2484</td><td>80.77666</td></tr>\n",
       "</tbody>\n",
       "</table>\n"
      ],
      "text/latex": [
       "A grouped\\_df: 1 × 5\n",
       "\\begin{tabular}{lllll}\n",
       " Formal\\_Name\\_and\\_Room & closet\\_Bluephone & Latitude & Longitude & distance\\\\\n",
       " <chr> & <chr> & <dbl> & <dbl> & <dbl>\\\\\n",
       "\\hline\n",
       "\t Blue Phone 89 & Blue Phone 88 & 49.27007 & -123.2484 & 80.77666\\\\\n",
       "\\end{tabular}\n"
      ],
      "text/markdown": [
       "\n",
       "A grouped_df: 1 × 5\n",
       "\n",
       "| Formal_Name_and_Room &lt;chr&gt; | closet_Bluephone &lt;chr&gt; | Latitude &lt;dbl&gt; | Longitude &lt;dbl&gt; | distance &lt;dbl&gt; |\n",
       "|---|---|---|---|---|\n",
       "| Blue Phone 89 | Blue Phone 88 | 49.27007 | -123.2484 | 80.77666 |\n",
       "\n"
      ],
      "text/plain": [
       "  Formal_Name_and_Room closet_Bluephone Latitude Longitude distance\n",
       "1 Blue Phone 89        Blue Phone 88    49.27007 -123.2484 80.77666"
      ]
     },
     "metadata": {},
     "output_type": "display_data"
    }
   ],
   "source": [
    "first_bluephone <- Bluephone_location[89, ]\n",
    "first_bluephone\n",
    "first_bluephone_lon_lat <- select(first_bluephone, Longitude, Latitude)\n",
    "first_bluephone_lon_lat\n",
    "rest_bluephone <- Bluephone_location |>\n",
    "        filter(Latitude != pull(first_bluephone, Latitude))\n",
    "\n",
    "Bluephone_distance <- rest_bluephone |>\n",
    "        group_by(Formal_Name_and_Room, Latitude, Longitude) |>\n",
    "        summarize(distance = distGeo(first_bluephone_lon_lat, c(Longitude, Latitude))) |>\n",
    "        arrange(distance) |>\n",
    "        head(1) |>\n",
    "        mutate(Bluephone_origin = pull(first_bluephone, Formal_Name_and_Room)) |>\n",
    "        select(Bluephone_origin, Formal_Name_and_Room, Latitude, Longitude, distance)\n",
    "\n",
    "colnames(Bluephone_distance) <- c(\"Formal_Name_and_Room\", \"closet_Bluephone\", \"Latitude\", \"Longitude\", \"distance\")\n",
    "\n",
    "Bluephone_distance"
   ]
  },
  {
   "cell_type": "code",
   "execution_count": 15,
   "id": "3772726d-886e-4b77-bc3d-1a83ba23c7a5",
   "metadata": {},
   "outputs": [
    {
     "data": {
      "text/html": [
       "<table class=\"dataframe\">\n",
       "<caption>A tibble: 0 × 5</caption>\n",
       "<thead>\n",
       "\t<tr><th scope=col>Formal_Name_and_Room</th><th scope=col>closet_Bluephone</th><th scope=col>Latitude</th><th scope=col>Longitude</th><th scope=col>distance</th></tr>\n",
       "\t<tr><th scope=col>&lt;chr&gt;</th><th scope=col>&lt;chr&gt;</th><th scope=col>&lt;dbl&gt;</th><th scope=col>&lt;dbl&gt;</th><th scope=col>&lt;dbl&gt;</th></tr>\n",
       "</thead>\n",
       "<tbody>\n",
       "</tbody>\n",
       "</table>\n"
      ],
      "text/latex": [
       "A tibble: 0 × 5\n",
       "\\begin{tabular}{lllll}\n",
       " Formal\\_Name\\_and\\_Room & closet\\_Bluephone & Latitude & Longitude & distance\\\\\n",
       " <chr> & <chr> & <dbl> & <dbl> & <dbl>\\\\\n",
       "\\hline\n",
       "\\end{tabular}\n"
      ],
      "text/markdown": [
       "\n",
       "A tibble: 0 × 5\n",
       "\n",
       "| Formal_Name_and_Room &lt;chr&gt; | closet_Bluephone &lt;chr&gt; | Latitude &lt;dbl&gt; | Longitude &lt;dbl&gt; | distance &lt;dbl&gt; |\n",
       "|---|---|---|---|---|\n",
       "\n"
      ],
      "text/plain": [
       "     Formal_Name_and_Room closet_Bluephone Latitude Longitude distance"
      ]
     },
     "metadata": {},
     "output_type": "display_data"
    }
   ],
   "source": [
    "bluephone_closest_distance <- as_tibble(filter(Bluephone_distance, Latitude == 1))\n",
    "bluephone_closest_distance"
   ]
  },
  {
   "cell_type": "code",
   "execution_count": 16,
   "id": "42206880-94bd-45a7-acb1-12ce3f95607a",
   "metadata": {},
   "outputs": [
    {
     "data": {
      "text/html": [
       "<table class=\"dataframe\">\n",
       "<caption>A grouped_df: 6 × 5</caption>\n",
       "<thead>\n",
       "\t<tr><th scope=col>Formal_Name_and_Room</th><th scope=col>closet_Bluephone</th><th scope=col>Latitude</th><th scope=col>Longitude</th><th scope=col>distance</th></tr>\n",
       "\t<tr><th scope=col>&lt;chr&gt;</th><th scope=col>&lt;chr&gt;</th><th scope=col>&lt;dbl&gt;</th><th scope=col>&lt;dbl&gt;</th><th scope=col>&lt;dbl&gt;</th></tr>\n",
       "</thead>\n",
       "<tbody>\n",
       "\t<tr><td>Blue Phone 01 ANSOC @ Northwest Marine Drive             </td><td>Blue Phone 62 Rose Garden Parkade Elevator Level 5                  </td><td>49.26945</td><td>-123.2566</td><td> 55.42414</td></tr>\n",
       "\t<tr><td>Blue Phone 03 Flagpole Plaza @ Main Mall &amp; Crescent Road </td><td><span style=white-space:pre-wrap>Blue Phone 62 Rose Garden Parkade Elevator Level 5                  </span></td><td>49.26945</td><td>-123.2566</td><td> 56.72429</td></tr>\n",
       "\t<tr><td><span style=white-space:pre-wrap>Blue Phone 04 Wyman Plaza @ Main Mall &amp; Memorial Road    </span></td><td><span style=white-space:pre-wrap>Blue Phone 03 Flagpole Plaza @ Main Mall &amp; Crescent Road            </span></td><td>49.26894</td><td>-123.2566</td><td>171.26136</td></tr>\n",
       "\t<tr><td>Blue Phone 05 Ponderosa F @ Lower Mall &amp; Pedestrian Path </td><td><span style=white-space:pre-wrap>Blue Phone 48 Fraser River Parkade South West Level 1               </span></td><td>49.26568</td><td>-123.2583</td><td> 94.76914</td></tr>\n",
       "\t<tr><td>Blue Phone 06 Ponderosa A @ West Mall &amp; Agricultural Road</td><td><span style=white-space:pre-wrap>Blue Phone 05 Ponderosa F @ Lower Mall &amp; Pedestrian Path            </span></td><td>49.26497</td><td>-123.2575</td><td>103.17813</td></tr>\n",
       "\t<tr><td><span style=white-space:pre-wrap>Blue Phone 07 Hennings @ East Mall &amp; Agricultural Road   </span></td><td>Blue Phone 41 Thunderbird Park pedestrian pathway near Soccer Centre</td><td>49.26753</td><td>-123.2527</td><td> 87.78280</td></tr>\n",
       "</tbody>\n",
       "</table>\n"
      ],
      "text/latex": [
       "A grouped\\_df: 6 × 5\n",
       "\\begin{tabular}{lllll}\n",
       " Formal\\_Name\\_and\\_Room & closet\\_Bluephone & Latitude & Longitude & distance\\\\\n",
       " <chr> & <chr> & <dbl> & <dbl> & <dbl>\\\\\n",
       "\\hline\n",
       "\t Blue Phone 01 ANSOC @ Northwest Marine Drive              & Blue Phone 62 Rose Garden Parkade Elevator Level 5                   & 49.26945 & -123.2566 &  55.42414\\\\\n",
       "\t Blue Phone 03 Flagpole Plaza @ Main Mall \\& Crescent Road  & Blue Phone 62 Rose Garden Parkade Elevator Level 5                   & 49.26945 & -123.2566 &  56.72429\\\\\n",
       "\t Blue Phone 04 Wyman Plaza @ Main Mall \\& Memorial Road     & Blue Phone 03 Flagpole Plaza @ Main Mall \\& Crescent Road             & 49.26894 & -123.2566 & 171.26136\\\\\n",
       "\t Blue Phone 05 Ponderosa F @ Lower Mall \\& Pedestrian Path  & Blue Phone 48 Fraser River Parkade South West Level 1                & 49.26568 & -123.2583 &  94.76914\\\\\n",
       "\t Blue Phone 06 Ponderosa A @ West Mall \\& Agricultural Road & Blue Phone 05 Ponderosa F @ Lower Mall \\& Pedestrian Path             & 49.26497 & -123.2575 & 103.17813\\\\\n",
       "\t Blue Phone 07 Hennings @ East Mall \\& Agricultural Road    & Blue Phone 41 Thunderbird Park pedestrian pathway near Soccer Centre & 49.26753 & -123.2527 &  87.78280\\\\\n",
       "\\end{tabular}\n"
      ],
      "text/markdown": [
       "\n",
       "A grouped_df: 6 × 5\n",
       "\n",
       "| Formal_Name_and_Room &lt;chr&gt; | closet_Bluephone &lt;chr&gt; | Latitude &lt;dbl&gt; | Longitude &lt;dbl&gt; | distance &lt;dbl&gt; |\n",
       "|---|---|---|---|---|\n",
       "| Blue Phone 01 ANSOC @ Northwest Marine Drive              | Blue Phone 62 Rose Garden Parkade Elevator Level 5                   | 49.26945 | -123.2566 |  55.42414 |\n",
       "| Blue Phone 03 Flagpole Plaza @ Main Mall &amp; Crescent Road  | Blue Phone 62 Rose Garden Parkade Elevator Level 5                   | 49.26945 | -123.2566 |  56.72429 |\n",
       "| Blue Phone 04 Wyman Plaza @ Main Mall &amp; Memorial Road     | Blue Phone 03 Flagpole Plaza @ Main Mall &amp; Crescent Road             | 49.26894 | -123.2566 | 171.26136 |\n",
       "| Blue Phone 05 Ponderosa F @ Lower Mall &amp; Pedestrian Path  | Blue Phone 48 Fraser River Parkade South West Level 1                | 49.26568 | -123.2583 |  94.76914 |\n",
       "| Blue Phone 06 Ponderosa A @ West Mall &amp; Agricultural Road | Blue Phone 05 Ponderosa F @ Lower Mall &amp; Pedestrian Path             | 49.26497 | -123.2575 | 103.17813 |\n",
       "| Blue Phone 07 Hennings @ East Mall &amp; Agricultural Road    | Blue Phone 41 Thunderbird Park pedestrian pathway near Soccer Centre | 49.26753 | -123.2527 |  87.78280 |\n",
       "\n"
      ],
      "text/plain": [
       "  Formal_Name_and_Room                                     \n",
       "1 Blue Phone 01 ANSOC @ Northwest Marine Drive             \n",
       "2 Blue Phone 03 Flagpole Plaza @ Main Mall & Crescent Road \n",
       "3 Blue Phone 04 Wyman Plaza @ Main Mall & Memorial Road    \n",
       "4 Blue Phone 05 Ponderosa F @ Lower Mall & Pedestrian Path \n",
       "5 Blue Phone 06 Ponderosa A @ West Mall & Agricultural Road\n",
       "6 Blue Phone 07 Hennings @ East Mall & Agricultural Road   \n",
       "  closet_Bluephone                                                     Latitude\n",
       "1 Blue Phone 62 Rose Garden Parkade Elevator Level 5                   49.26945\n",
       "2 Blue Phone 62 Rose Garden Parkade Elevator Level 5                   49.26945\n",
       "3 Blue Phone 03 Flagpole Plaza @ Main Mall & Crescent Road             49.26894\n",
       "4 Blue Phone 48 Fraser River Parkade South West Level 1                49.26568\n",
       "5 Blue Phone 05 Ponderosa F @ Lower Mall & Pedestrian Path             49.26497\n",
       "6 Blue Phone 41 Thunderbird Park pedestrian pathway near Soccer Centre 49.26753\n",
       "  Longitude distance \n",
       "1 -123.2566  55.42414\n",
       "2 -123.2566  56.72429\n",
       "3 -123.2566 171.26136\n",
       "4 -123.2583  94.76914\n",
       "5 -123.2575 103.17813\n",
       "6 -123.2527  87.78280"
      ]
     },
     "metadata": {},
     "output_type": "display_data"
    }
   ],
   "source": [
    "bluephone_closest_distance <- filter(Bluephone_distance, Latitude == 1)\n",
    "\n",
    "options(dplyr.summarise.inform = FALSE) #disable dplyr messages in code\n",
    "\n",
    "for (i in 1:89){\n",
    "    first_bluephone <- Bluephone_location[i, ]\n",
    "    first_bluephone_lon_lat <- select(first_bluephone, Longitude, Latitude)\n",
    "    rest_bluephone <- Bluephone_location |>\n",
    "        filter(Latitude != pull(first_bluephone, Latitude))\n",
    "    \n",
    "    Bluephone_distance <- rest_bluephone |>\n",
    "        group_by(Formal_Name_and_Room, Latitude, Longitude) |>\n",
    "        summarize(distance = distGeo(first_bluephone_lon_lat, c(Longitude, Latitude))) |>\n",
    "        arrange(distance) |>\n",
    "        head(1) |>\n",
    "        mutate(Bluephone_origin = pull(first_bluephone, Formal_Name_and_Room)) |>\n",
    "        select(Bluephone_origin, Formal_Name_and_Room, Latitude, Longitude, distance)\n",
    "    \n",
    "    colnames(Bluephone_distance) <- c(\"Formal_Name_and_Room\", \"closet_Bluephone\", \"Latitude\", \"Longitude\", \"distance\")\n",
    "    \n",
    "    bluephone_closest_distance <- bind_rows(bluephone_closest_distance, Bluephone_distance)\n",
    "}\n",
    "\n",
    "head(bluephone_closest_distance)"
   ]
  },
  {
   "cell_type": "code",
   "execution_count": 17,
   "id": "c5226aec-78a9-4d4f-9951-3493a75ca237",
   "metadata": {},
   "outputs": [],
   "source": [
    "write_csv(bluephone_closest_distance, file = \"data/Each Bluephone Distance with Closet.csv\")"
   ]
  },
  {
   "cell_type": "code",
   "execution_count": 18,
   "id": "226fa92d-6cb2-47c3-9f48-795e911d873a",
   "metadata": {},
   "outputs": [
    {
     "data": {
      "text/html": [
       "<table class=\"dataframe\">\n",
       "<caption>A grouped_df: 6 × 5</caption>\n",
       "<thead>\n",
       "\t<tr><th scope=col>Bluephone_No</th><th scope=col>closet_Bluephone</th><th scope=col>Latitude</th><th scope=col>Longitude</th><th scope=col>distance</th></tr>\n",
       "\t<tr><th scope=col>&lt;int&gt;</th><th scope=col>&lt;chr&gt;</th><th scope=col>&lt;dbl&gt;</th><th scope=col>&lt;dbl&gt;</th><th scope=col>&lt;dbl&gt;</th></tr>\n",
       "</thead>\n",
       "<tbody>\n",
       "\t<tr><td>1</td><td>Blue Phone 62 Rose Garden Parkade Elevator Level 5                  </td><td>49.26945</td><td>-123.2566</td><td> 55.42414</td></tr>\n",
       "\t<tr><td>3</td><td>Blue Phone 62 Rose Garden Parkade Elevator Level 5                  </td><td>49.26945</td><td>-123.2566</td><td> 56.72429</td></tr>\n",
       "\t<tr><td>4</td><td><span style=white-space:pre-wrap>Blue Phone 03 Flagpole Plaza @ Main Mall &amp; Crescent Road            </span></td><td>49.26894</td><td>-123.2566</td><td>171.26136</td></tr>\n",
       "\t<tr><td>5</td><td>Blue Phone 48 Fraser River Parkade South West Level 1               </td><td>49.26568</td><td>-123.2583</td><td> 94.76914</td></tr>\n",
       "\t<tr><td>6</td><td><span style=white-space:pre-wrap>Blue Phone 05 Ponderosa F @ Lower Mall &amp; Pedestrian Path            </span></td><td>49.26497</td><td>-123.2575</td><td>103.17813</td></tr>\n",
       "\t<tr><td>7</td><td>Blue Phone 41 Thunderbird Park pedestrian pathway near Soccer Centre</td><td>49.26753</td><td>-123.2527</td><td> 87.78280</td></tr>\n",
       "</tbody>\n",
       "</table>\n"
      ],
      "text/latex": [
       "A grouped\\_df: 6 × 5\n",
       "\\begin{tabular}{lllll}\n",
       " Bluephone\\_No & closet\\_Bluephone & Latitude & Longitude & distance\\\\\n",
       " <int> & <chr> & <dbl> & <dbl> & <dbl>\\\\\n",
       "\\hline\n",
       "\t 1 & Blue Phone 62 Rose Garden Parkade Elevator Level 5                   & 49.26945 & -123.2566 &  55.42414\\\\\n",
       "\t 3 & Blue Phone 62 Rose Garden Parkade Elevator Level 5                   & 49.26945 & -123.2566 &  56.72429\\\\\n",
       "\t 4 & Blue Phone 03 Flagpole Plaza @ Main Mall \\& Crescent Road             & 49.26894 & -123.2566 & 171.26136\\\\\n",
       "\t 5 & Blue Phone 48 Fraser River Parkade South West Level 1                & 49.26568 & -123.2583 &  94.76914\\\\\n",
       "\t 6 & Blue Phone 05 Ponderosa F @ Lower Mall \\& Pedestrian Path             & 49.26497 & -123.2575 & 103.17813\\\\\n",
       "\t 7 & Blue Phone 41 Thunderbird Park pedestrian pathway near Soccer Centre & 49.26753 & -123.2527 &  87.78280\\\\\n",
       "\\end{tabular}\n"
      ],
      "text/markdown": [
       "\n",
       "A grouped_df: 6 × 5\n",
       "\n",
       "| Bluephone_No &lt;int&gt; | closet_Bluephone &lt;chr&gt; | Latitude &lt;dbl&gt; | Longitude &lt;dbl&gt; | distance &lt;dbl&gt; |\n",
       "|---|---|---|---|---|\n",
       "| 1 | Blue Phone 62 Rose Garden Parkade Elevator Level 5                   | 49.26945 | -123.2566 |  55.42414 |\n",
       "| 3 | Blue Phone 62 Rose Garden Parkade Elevator Level 5                   | 49.26945 | -123.2566 |  56.72429 |\n",
       "| 4 | Blue Phone 03 Flagpole Plaza @ Main Mall &amp; Crescent Road             | 49.26894 | -123.2566 | 171.26136 |\n",
       "| 5 | Blue Phone 48 Fraser River Parkade South West Level 1                | 49.26568 | -123.2583 |  94.76914 |\n",
       "| 6 | Blue Phone 05 Ponderosa F @ Lower Mall &amp; Pedestrian Path             | 49.26497 | -123.2575 | 103.17813 |\n",
       "| 7 | Blue Phone 41 Thunderbird Park pedestrian pathway near Soccer Centre | 49.26753 | -123.2527 |  87.78280 |\n",
       "\n"
      ],
      "text/plain": [
       "  Bluephone_No\n",
       "1 1           \n",
       "2 3           \n",
       "3 4           \n",
       "4 5           \n",
       "5 6           \n",
       "6 7           \n",
       "  closet_Bluephone                                                     Latitude\n",
       "1 Blue Phone 62 Rose Garden Parkade Elevator Level 5                   49.26945\n",
       "2 Blue Phone 62 Rose Garden Parkade Elevator Level 5                   49.26945\n",
       "3 Blue Phone 03 Flagpole Plaza @ Main Mall & Crescent Road             49.26894\n",
       "4 Blue Phone 48 Fraser River Parkade South West Level 1                49.26568\n",
       "5 Blue Phone 05 Ponderosa F @ Lower Mall & Pedestrian Path             49.26497\n",
       "6 Blue Phone 41 Thunderbird Park pedestrian pathway near Soccer Centre 49.26753\n",
       "  Longitude distance \n",
       "1 -123.2566  55.42414\n",
       "2 -123.2566  56.72429\n",
       "3 -123.2566 171.26136\n",
       "4 -123.2583  94.76914\n",
       "5 -123.2575 103.17813\n",
       "6 -123.2527  87.78280"
      ]
     },
     "metadata": {},
     "output_type": "display_data"
    }
   ],
   "source": [
    "#rename from the formal name to index\n",
    "bluephone_closest_distance_renamed <- bluephone_closest_distance |>\n",
    "    mutate(Bluephone_No = substr(Formal_Name_and_Room, 11, 13)) |>\n",
    "    mutate(across(Bluephone_No, as.integer)) |>\n",
    "    select(Bluephone_No, closet_Bluephone, Latitude, Longitude, distance)\n",
    "\n",
    "head(bluephone_closest_distance_renamed)"
   ]
  },
  {
   "cell_type": "code",
   "execution_count": 19,
   "id": "75e983d5-0870-4030-9da6-95ed0e566606",
   "metadata": {},
   "outputs": [
    {
     "name": "stdout",
     "output_type": "stream",
     "text": [
      "The distance between each bluephone and its closet bluephone is 88.23234 m."
     ]
    }
   ],
   "source": [
    "# calculate the mean of the distance\n",
    "distance_mean <- bluephone_closest_distance_renamed |>\n",
    "    pull(distance) |>\n",
    "    mean()\n",
    "\n",
    "cat(\"The distance between each bluephone and its closet bluephone is\", distance_mean, \"m.\")"
   ]
  },
  {
   "cell_type": "code",
   "execution_count": 20,
   "id": "c4298a70-3b02-4ef8-b278-0a34a108e99b",
   "metadata": {},
   "outputs": [
    {
     "data": {
      "image/png": "[encoded data removed]",
      "text/plain": [
       "plot without title"
      ]
     },
     "metadata": {
      "image/png": {
       "height": 480,
       "width": 540
      }
     },
     "output_type": "display_data"
    }
   ],
   "source": [
    "#plot the distance between the current bluephone and its closet one\n",
    "options(repr.plot.height = 8, repr.plot.width = 9)\n",
    "\n",
    "bluephone_closest_distance_plot <- bluephone_closest_distance_renamed |>\n",
    "    ggplot(aes(x = Bluephone_No, y = distance)) +\n",
    "    geom_point() +\n",
    "    geom_hline(yintercept = distance_mean, linetype = \"dashed\", linewidth = 2, alpha = 0.4, color = \"red\") +\n",
    "    labs(x = \"Bluephone Number\",\n",
    "         y = \"Distance with the closet another bluephone (m)\") +\n",
    "    ggtitle(\"The distance between each bluephone and its closet one\") +\n",
    "    theme(text = element_text(size = 18))\n",
    "\n",
    "bluephone_closest_distance_plot"
   ]
  },
  {
   "cell_type": "code",
   "execution_count": 21,
   "id": "65ed6b59-5594-4d74-a2b6-c958aa62935f",
   "metadata": {},
   "outputs": [
    {
     "data": {
      "text/html": [
       "<table class=\"dataframe\">\n",
       "<caption>A grouped_df: 1 × 5</caption>\n",
       "<thead>\n",
       "\t<tr><th scope=col>Formal_Name_and_Room</th><th scope=col>closet_Bluephone</th><th scope=col>Latitude</th><th scope=col>Longitude</th><th scope=col>distance</th></tr>\n",
       "\t<tr><th scope=col>&lt;chr&gt;</th><th scope=col>&lt;chr&gt;</th><th scope=col>&lt;dbl&gt;</th><th scope=col>&lt;dbl&gt;</th><th scope=col>&lt;dbl&gt;</th></tr>\n",
       "</thead>\n",
       "<tbody>\n",
       "\t<tr><td>Blue Phone 17 Rhododendron Wood @ Main Mall &amp; Eagles Drive</td><td>Blue Phone 16 Old Barn Community Centre @ Main Mall &amp; Thunderbird Blvd</td><td>49.25932</td><td>-123.2481</td><td>220.0795</td></tr>\n",
       "</tbody>\n",
       "</table>\n"
      ],
      "text/latex": [
       "A grouped\\_df: 1 × 5\n",
       "\\begin{tabular}{lllll}\n",
       " Formal\\_Name\\_and\\_Room & closet\\_Bluephone & Latitude & Longitude & distance\\\\\n",
       " <chr> & <chr> & <dbl> & <dbl> & <dbl>\\\\\n",
       "\\hline\n",
       "\t Blue Phone 17 Rhododendron Wood @ Main Mall \\& Eagles Drive & Blue Phone 16 Old Barn Community Centre @ Main Mall \\& Thunderbird Blvd & 49.25932 & -123.2481 & 220.0795\\\\\n",
       "\\end{tabular}\n"
      ],
      "text/markdown": [
       "\n",
       "A grouped_df: 1 × 5\n",
       "\n",
       "| Formal_Name_and_Room &lt;chr&gt; | closet_Bluephone &lt;chr&gt; | Latitude &lt;dbl&gt; | Longitude &lt;dbl&gt; | distance &lt;dbl&gt; |\n",
       "|---|---|---|---|---|\n",
       "| Blue Phone 17 Rhododendron Wood @ Main Mall &amp; Eagles Drive | Blue Phone 16 Old Barn Community Centre @ Main Mall &amp; Thunderbird Blvd | 49.25932 | -123.2481 | 220.0795 |\n",
       "\n"
      ],
      "text/plain": [
       "  Formal_Name_and_Room                                      \n",
       "1 Blue Phone 17 Rhododendron Wood @ Main Mall & Eagles Drive\n",
       "  closet_Bluephone                                                      \n",
       "1 Blue Phone 16 Old Barn Community Centre @ Main Mall & Thunderbird Blvd\n",
       "  Latitude Longitude distance\n",
       "1 49.25932 -123.2481 220.0795"
      ]
     },
     "metadata": {},
     "output_type": "display_data"
    }
   ],
   "source": [
    "#find the location of the bluephone such that has the maximum distance with another one\n",
    "bluephone_distance_max <- bluephone_closest_distance |>\n",
    "    arrange(desc(distance)) |>\n",
    "    head(1)\n",
    "\n",
    "bluephone_distance_max"
   ]
  },
  {
   "cell_type": "code",
   "execution_count": 22,
   "id": "cc87a609-007b-40c1-bd3b-9ab3d1b875f2",
   "metadata": {},
   "outputs": [
    {
     "data": {
      "text/html": [
       "<table class=\"dataframe\">\n",
       "<caption>A tibble: 4 × 4</caption>\n",
       "<thead>\n",
       "\t<tr><th scope=col>Formal_Name_and_Room</th><th scope=col>Street_Address</th><th scope=col>Latitude</th><th scope=col>Longitude</th></tr>\n",
       "\t<tr><th scope=col>&lt;chr&gt;</th><th scope=col>&lt;chr&gt;</th><th scope=col>&lt;dbl&gt;</th><th scope=col>&lt;dbl&gt;</th></tr>\n",
       "</thead>\n",
       "<tbody>\n",
       "\t<tr><td>Blue Phone 16 Old Barn Community Centre @ Main Mall &amp; Thunderbird Blvd</td><td>6308 THUNDERBIRD Blvd Old Barn Community Ctr</td><td>49.25932</td><td>-123.2481</td></tr>\n",
       "\t<tr><td><span style=white-space:pre-wrap>Blue Phone 17 Rhododendron Wood @ Main Mall &amp; Eagles Drive            </span></td><td><span style=white-space:pre-wrap>Main Mall                                   </span></td><td>49.25758</td><td>-123.2467</td></tr>\n",
       "\t<tr><td><span style=white-space:pre-wrap>Blue Phone 30 Totem Park @ West Mall &amp; Thunderbird Blvd               </span></td><td><span style=white-space:pre-wrap>2525 WEST MALL &amp; THUNDERBIRD Blvd           </span></td><td>49.25846</td><td>-123.2507</td></tr>\n",
       "\t<tr><td><span style=white-space:pre-wrap>Blue Phone 31 Tennis Centre @ Thunderbird &amp; East Mall                 </span></td><td><span style=white-space:pre-wrap>6160 THUNDERBIRD BLVD &amp; EAST MALL           </span></td><td>49.26008</td><td>-123.2456</td></tr>\n",
       "</tbody>\n",
       "</table>\n"
      ],
      "text/latex": [
       "A tibble: 4 × 4\n",
       "\\begin{tabular}{llll}\n",
       " Formal\\_Name\\_and\\_Room & Street\\_Address & Latitude & Longitude\\\\\n",
       " <chr> & <chr> & <dbl> & <dbl>\\\\\n",
       "\\hline\n",
       "\t Blue Phone 16 Old Barn Community Centre @ Main Mall \\& Thunderbird Blvd & 6308 THUNDERBIRD Blvd Old Barn Community Ctr & 49.25932 & -123.2481\\\\\n",
       "\t Blue Phone 17 Rhododendron Wood @ Main Mall \\& Eagles Drive             & Main Mall                                    & 49.25758 & -123.2467\\\\\n",
       "\t Blue Phone 30 Totem Park @ West Mall \\& Thunderbird Blvd                & 2525 WEST MALL \\& THUNDERBIRD Blvd            & 49.25846 & -123.2507\\\\\n",
       "\t Blue Phone 31 Tennis Centre @ Thunderbird \\& East Mall                  & 6160 THUNDERBIRD BLVD \\& EAST MALL            & 49.26008 & -123.2456\\\\\n",
       "\\end{tabular}\n"
      ],
      "text/markdown": [
       "\n",
       "A tibble: 4 × 4\n",
       "\n",
       "| Formal_Name_and_Room &lt;chr&gt; | Street_Address &lt;chr&gt; | Latitude &lt;dbl&gt; | Longitude &lt;dbl&gt; |\n",
       "|---|---|---|---|\n",
       "| Blue Phone 16 Old Barn Community Centre @ Main Mall &amp; Thunderbird Blvd | 6308 THUNDERBIRD Blvd Old Barn Community Ctr | 49.25932 | -123.2481 |\n",
       "| Blue Phone 17 Rhododendron Wood @ Main Mall &amp; Eagles Drive             | Main Mall                                    | 49.25758 | -123.2467 |\n",
       "| Blue Phone 30 Totem Park @ West Mall &amp; Thunderbird Blvd                | 2525 WEST MALL &amp; THUNDERBIRD Blvd            | 49.25846 | -123.2507 |\n",
       "| Blue Phone 31 Tennis Centre @ Thunderbird &amp; East Mall                  | 6160 THUNDERBIRD BLVD &amp; EAST MALL            | 49.26008 | -123.2456 |\n",
       "\n"
      ],
      "text/plain": [
       "  Formal_Name_and_Room                                                  \n",
       "1 Blue Phone 16 Old Barn Community Centre @ Main Mall & Thunderbird Blvd\n",
       "2 Blue Phone 17 Rhododendron Wood @ Main Mall & Eagles Drive            \n",
       "3 Blue Phone 30 Totem Park @ West Mall & Thunderbird Blvd               \n",
       "4 Blue Phone 31 Tennis Centre @ Thunderbird & East Mall                 \n",
       "  Street_Address                               Latitude Longitude\n",
       "1 6308 THUNDERBIRD Blvd Old Barn Community Ctr 49.25932 -123.2481\n",
       "2 Main Mall                                    49.25758 -123.2467\n",
       "3 2525 WEST MALL & THUNDERBIRD Blvd            49.25846 -123.2507\n",
       "4 6160 THUNDERBIRD BLVD & EAST MALL            49.26008 -123.2456"
      ]
     },
     "metadata": {},
     "output_type": "display_data"
    }
   ],
   "source": [
    "bluephone_distance_max_location <- Bluephone_location |>\n",
    "    filter(Formal_Name_and_Room %in% c(\"Blue Phone 17 Rhododendron Wood @ Main Mall & Eagles Drive\", \n",
    "                                       \"Blue Phone 16 Old Barn Community Centre @ Main Mall & Thunderbird Blvd\", \n",
    "                                       \"Blue Phone 30 Totem Park @ West Mall & Thunderbird Blvd\",\n",
    "                                       \"Blue Phone 31 Tennis Centre @ Thunderbird & East Mall\"))\n",
    "\n",
    "bluephone_distance_max_location"
   ]
  },
  {
   "cell_type": "code",
   "execution_count": 23,
   "id": "ba850322-6081-4976-b71a-ec4e08fa220f",
   "metadata": {},
   "outputs": [],
   "source": [
    "#plot the location on the map\n",
    "\n",
    "bluephone_map_max_distance <- leaflet(data = bluephone_distance_max_location, height=400, width=400) |>\n",
    "    addTiles() |>\n",
    "    fitBounds(-123.246,49.257,-123.248,49.26) |>\n",
    "    addMarkers(lng = ~Longitude, \n",
    "               lat = ~Latitude, \n",
    "               popup = ~Street_Address,\n",
    "               label = ~Formal_Name_and_Room) |>\n",
    "    addMarkers(data = bluephone_distance_max_location,\n",
    "               lng = ~Longitude, \n",
    "               lat = ~Latitude,\n",
    "               popup = ~Street_Address,\n",
    "               label = ~Formal_Name_and_Room) |>\n",
    "    addPolylines(data = bluephone_distance_max_location[1:2,], lng = ~Longitude, lat = ~Latitude) |>\n",
    "    addPolylines(data = bind_rows(bluephone_distance_max_location[2, ],\n",
    "                                  bluephone_distance_max_location[3, ]), \n",
    "                 lng = ~Longitude, lat = ~Latitude) |>\n",
    "    addPolylines(data = bind_rows(bluephone_distance_max_location[2, ],\n",
    "                                  bluephone_distance_max_location[4, ]), \n",
    "                 lng = ~Longitude, lat = ~Latitude) |>\n",
    "    addScaleBar()\n",
    "\n",
    "\n",
    "#bluephone_map_max_distance"
   ]
  },
  {
   "cell_type": "code",
   "execution_count": 24,
   "id": "1f4fc523-312f-4445-8973-aa6eddf373d8",
   "metadata": {},
   "outputs": [],
   "source": [
    "# mapview image save\n",
    "mapshot(bluephone_map_max_distance, file = \"Map Image Save/Longest_Bluephone_Map.png\")"
   ]
  },
  {
   "cell_type": "markdown",
   "id": "1ea450e4-18d5-48fb-862c-31f713a4e95b",
   "metadata": {},
   "source": [
    "<!-- mapshot(base_map, file = \"Map Image Save/base map.png\") -->\n",
    "<img src=\"Map Image Save/Longest_Bluephone_Map.png\" width=\"600\" height=\"300\">"
   ]
  },
  {
   "cell_type": "code",
   "execution_count": null,
   "id": "9d6b34e2-93a0-4cfc-ace0-51530a7a5d99",
   "metadata": {},
   "outputs": [],
   "source": []
  }
 ],
 "metadata": {
  "kernelspec": {
   "display_name": "R",
   "language": "R",
   "name": "ir"
  },
  "language_info": {
   "codemirror_mode": "r",
   "file_extension": ".r",
   "mimetype": "text/x-r-source",
   "name": "R",
   "pygments_lexer": "r",
   "version": "4.3.0"
  }
 },
 "nbformat": 4,
 "nbformat_minor": 5
}
