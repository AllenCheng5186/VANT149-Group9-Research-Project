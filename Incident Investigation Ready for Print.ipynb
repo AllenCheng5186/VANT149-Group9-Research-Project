{
 "cells": [
  {
   "cell_type": "code",
   "execution_count": 1,
   "id": "8d8fbae0-7bde-4857-9df9-61518d96068c",
   "metadata": {},
   "outputs": [
    {
     "name": "stderr",
     "output_type": "stream",
     "text": [
      "── \u001b[1mAttaching core tidyverse packages\u001b[22m ──────────────────────── tidyverse 2.0.0 ──\n",
      "\u001b[32m✔\u001b[39m \u001b[34mdplyr    \u001b[39m 1.1.2     \u001b[32m✔\u001b[39m \u001b[34mreadr    \u001b[39m 2.1.4\n",
      "\u001b[32m✔\u001b[39m \u001b[34mforcats  \u001b[39m 1.0.0     \u001b[32m✔\u001b[39m \u001b[34mstringr  \u001b[39m 1.5.0\n",
      "\u001b[32m✔\u001b[39m \u001b[34mggplot2  \u001b[39m 3.4.2     \u001b[32m✔\u001b[39m \u001b[34mtibble   \u001b[39m 3.2.1\n",
      "\u001b[32m✔\u001b[39m \u001b[34mlubridate\u001b[39m 1.9.2     \u001b[32m✔\u001b[39m \u001b[34mtidyr    \u001b[39m 1.3.0\n",
      "\u001b[32m✔\u001b[39m \u001b[34mpurrr    \u001b[39m 1.0.1     \n",
      "── \u001b[1mConflicts\u001b[22m ────────────────────────────────────────── tidyverse_conflicts() ──\n",
      "\u001b[31m✖\u001b[39m \u001b[34mdplyr\u001b[39m::\u001b[32mfilter()\u001b[39m masks \u001b[34mstats\u001b[39m::filter()\n",
      "\u001b[31m✖\u001b[39m \u001b[34mdplyr\u001b[39m::\u001b[32mlag()\u001b[39m    masks \u001b[34mstats\u001b[39m::lag()\n",
      "\u001b[36mℹ\u001b[39m Use the conflicted package (\u001b[3m\u001b[34m<http://conflicted.r-lib.org/>\u001b[39m\u001b[23m) to force all conflicts to become errors\n"
     ]
    }
   ],
   "source": [
    "library(tidyverse)\n",
    "library(leaflet)\n",
    "library(leaflet.extras)\n",
    "library(mapview)"
   ]
  },
  {
   "cell_type": "code",
   "execution_count": 2,
   "id": "d5c148c4-6a9c-4898-a6e5-495a99d58fdc",
   "metadata": {},
   "outputs": [
    {
     "name": "stderr",
     "output_type": "stream",
     "text": [
      "\u001b[1mRows: \u001b[22m\u001b[34m10\u001b[39m \u001b[1mColumns: \u001b[22m\u001b[34m4\u001b[39m\n",
      "\u001b[36m──\u001b[39m \u001b[1mColumn specification\u001b[22m \u001b[36m────────────────────────────────────────────────────────\u001b[39m\n",
      "\u001b[1mDelimiter:\u001b[22m \",\"\n",
      "\u001b[31mchr\u001b[39m (2): Incident, Location\n",
      "\u001b[32mdbl\u001b[39m (2): Latitude, Longitude\n",
      "\n",
      "\u001b[36mℹ\u001b[39m Use `spec()` to retrieve the full column specification for this data.\n",
      "\u001b[36mℹ\u001b[39m Specify the column types or set `show_col_types = FALSE` to quiet this message.\n"
     ]
    },
    {
     "data": {
      "text/html": [
       "<table class=\"dataframe\">\n",
       "<caption>A tibble: 6 × 4</caption>\n",
       "<thead>\n",
       "\t<tr><th scope=col>Incident</th><th scope=col>Location</th><th scope=col>Latitude</th><th scope=col>Longitude</th></tr>\n",
       "\t<tr><th scope=col>&lt;chr&gt;</th><th scope=col>&lt;chr&gt;</th><th scope=col>&lt;dbl&gt;</th><th scope=col>&lt;dbl&gt;</th></tr>\n",
       "</thead>\n",
       "<tbody>\n",
       "\t<tr><td>Assult 1-2021</td><td>University Village                                            </td><td>49.26647</td><td>-123.2438</td></tr>\n",
       "\t<tr><td>Assult 2-2021</td><td>Wesbrook Village                                              </td><td>49.25530</td><td>-123.2370</td></tr>\n",
       "\t<tr><td>Assult 3-2021</td><td>University Boulevard by Scotiabank at the Diesel Bus Loop area</td><td>49.26612</td><td>-123.2463</td></tr>\n",
       "\t<tr><td>Assult 4-2021</td><td>Basketball court area beside the Thunderbird parkade          </td><td>49.26096</td><td>-123.2441</td></tr>\n",
       "\t<tr><td>Assult 5-2021</td><td><span style=white-space:pre-wrap>Wesbrook Mall &amp; University Boulevard                          </span></td><td>49.26623</td><td>-123.2456</td></tr>\n",
       "\t<tr><td>Assult 6-2021</td><td><span style=white-space:pre-wrap>West Mall &amp; Agronomy Road                                     </span></td><td>49.25972</td><td>-123.2516</td></tr>\n",
       "</tbody>\n",
       "</table>\n"
      ],
      "text/latex": [
       "A tibble: 6 × 4\n",
       "\\begin{tabular}{llll}\n",
       " Incident & Location & Latitude & Longitude\\\\\n",
       " <chr> & <chr> & <dbl> & <dbl>\\\\\n",
       "\\hline\n",
       "\t Assult 1-2021 & University Village                                             & 49.26647 & -123.2438\\\\\n",
       "\t Assult 2-2021 & Wesbrook Village                                               & 49.25530 & -123.2370\\\\\n",
       "\t Assult 3-2021 & University Boulevard by Scotiabank at the Diesel Bus Loop area & 49.26612 & -123.2463\\\\\n",
       "\t Assult 4-2021 & Basketball court area beside the Thunderbird parkade           & 49.26096 & -123.2441\\\\\n",
       "\t Assult 5-2021 & Wesbrook Mall \\& University Boulevard                           & 49.26623 & -123.2456\\\\\n",
       "\t Assult 6-2021 & West Mall \\& Agronomy Road                                      & 49.25972 & -123.2516\\\\\n",
       "\\end{tabular}\n"
      ],
      "text/markdown": [
       "\n",
       "A tibble: 6 × 4\n",
       "\n",
       "| Incident &lt;chr&gt; | Location &lt;chr&gt; | Latitude &lt;dbl&gt; | Longitude &lt;dbl&gt; |\n",
       "|---|---|---|---|\n",
       "| Assult 1-2021 | University Village                                             | 49.26647 | -123.2438 |\n",
       "| Assult 2-2021 | Wesbrook Village                                               | 49.25530 | -123.2370 |\n",
       "| Assult 3-2021 | University Boulevard by Scotiabank at the Diesel Bus Loop area | 49.26612 | -123.2463 |\n",
       "| Assult 4-2021 | Basketball court area beside the Thunderbird parkade           | 49.26096 | -123.2441 |\n",
       "| Assult 5-2021 | Wesbrook Mall &amp; University Boulevard                           | 49.26623 | -123.2456 |\n",
       "| Assult 6-2021 | West Mall &amp; Agronomy Road                                      | 49.25972 | -123.2516 |\n",
       "\n"
      ],
      "text/plain": [
       "  Incident      Location                                                      \n",
       "1 Assult 1-2021 University Village                                            \n",
       "2 Assult 2-2021 Wesbrook Village                                              \n",
       "3 Assult 3-2021 University Boulevard by Scotiabank at the Diesel Bus Loop area\n",
       "4 Assult 4-2021 Basketball court area beside the Thunderbird parkade          \n",
       "5 Assult 5-2021 Wesbrook Mall & University Boulevard                          \n",
       "6 Assult 6-2021 West Mall & Agronomy Road                                     \n",
       "  Latitude Longitude\n",
       "1 49.26647 -123.2438\n",
       "2 49.25530 -123.2370\n",
       "3 49.26612 -123.2463\n",
       "4 49.26096 -123.2441\n",
       "5 49.26623 -123.2456\n",
       "6 49.25972 -123.2516"
      ]
     },
     "metadata": {},
     "output_type": "display_data"
    }
   ],
   "source": [
    "# load the data frame\n",
    "incident_location <- read_csv(\"data/Incidents Coordinates.csv\")\n",
    "head(incident_location)"
   ]
  },
  {
   "cell_type": "code",
   "execution_count": 3,
   "id": "946fbaa3-5388-4f16-83fe-d7beec41d22e",
   "metadata": {},
   "outputs": [],
   "source": [
    "# create the base map\n",
    "base_map <- leaflet() %>%\n",
    "    addTiles() %>%\n",
    "    fitBounds(-123.20,49.255,-123.28,49.27)\n",
    "\n",
    "#base_map"
   ]
  },
  {
   "cell_type": "code",
   "execution_count": 4,
   "id": "fbfcb95f-6bfb-4eb6-a31b-62a037817fb7",
   "metadata": {},
   "outputs": [],
   "source": [
    "mapshot(base_map, file = \"Map Image Save/base_map_incident.png\")"
   ]
  },
  {
   "cell_type": "markdown",
   "id": "04dbafce-fa7c-48a0-9c77-14f47897400e",
   "metadata": {},
   "source": [
    "<!-- mapshot(base_map, file = \"Map Image Save/base map.png\") -->\n",
    "<img src=\"Map Image Save/base_map_incident.png\" width=\"600\" height=\"300\">"
   ]
  },
  {
   "cell_type": "code",
   "execution_count": 5,
   "id": "38578b1e-9294-436c-8580-e4a9bb319791",
   "metadata": {},
   "outputs": [],
   "source": [
    "#plot the incident location\n",
    "incident_location_map <- leaflet(data = incident_location) %>%\n",
    "    addTiles() %>%\n",
    "    fitBounds(-123.20,49.255,-123.28,49.27) %>%\n",
    "    addMarkers(lng = ~Longitude, \n",
    "               lat = ~Latitude, \n",
    "               popup = ~Incident, label = ~Location)\n",
    "\n",
    "#incident_location_map"
   ]
  },
  {
   "cell_type": "code",
   "execution_count": 6,
   "id": "697a26f8-c4f0-4e74-b490-0141640020f9",
   "metadata": {},
   "outputs": [],
   "source": [
    "mapshot(incident_location_map, file = \"Map Image Save/incident_location_map.png\")"
   ]
  },
  {
   "cell_type": "markdown",
   "id": "4e1b3a26-ceb1-45d9-82d4-cce97efb66e0",
   "metadata": {},
   "source": [
    "<!-- mapshot(base_map, file = \"Map Image Save/base map.png\") -->\n",
    "<img src=\"Map Image Save/incident_location_map.png\" width=\"600\" height=\"300\">"
   ]
  },
  {
   "cell_type": "code",
   "execution_count": 7,
   "id": "1cdb3936-11d6-4032-949f-3f24b548213e",
   "metadata": {},
   "outputs": [],
   "source": [
    "# incident heatmap\n",
    "incident_heatmap <- addHeatmap(base_map, lng = ~Longitude, lat = ~Latitude,  intensity = 0.1,\n",
    "    layerId = NULL, group = NULL, minOpacity = 0.05, max = 0.05,\n",
    "    radius = 20, blur = 25, gradient = NULL, cellSize = 10,\n",
    "    data = incident_location)\n",
    "\n",
    "#incident_heatmap"
   ]
  },
  {
   "cell_type": "code",
   "execution_count": 8,
   "id": "7e51b575-dc47-46b3-a078-cee40704c5e0",
   "metadata": {},
   "outputs": [],
   "source": [
    "mapshot(incident_heatmap, file = \"Map Image Save/incident_heatmap.png\")"
   ]
  },
  {
   "cell_type": "markdown",
   "id": "b769166b-6318-459f-86b5-56b94b11fa32",
   "metadata": {},
   "source": [
    "<!-- mapshot(base_map, file = \"Map Image Save/base map.png\") -->\n",
    "<img src=\"Map Image Save/incident_heatmap.png\" width=\"600\" height=\"300\">"
   ]
  },
  {
   "cell_type": "code",
   "execution_count": null,
   "id": "5940334c-469b-4ddc-a86f-0ddc532c1ecd",
   "metadata": {},
   "outputs": [],
   "source": []
  }
 ],
 "metadata": {
  "kernelspec": {
   "display_name": "R",
   "language": "R",
   "name": "ir"
  },
  "language_info": {
   "codemirror_mode": "r",
   "file_extension": ".r",
   "mimetype": "text/x-r-source",
   "name": "R",
   "pygments_lexer": "r",
   "version": "4.3.0"
  }
 },
 "nbformat": 4,
 "nbformat_minor": 5
}
